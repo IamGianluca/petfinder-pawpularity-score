{
 "cells": [
  {
   "cell_type": "markdown",
   "id": "ed7eadb3",
   "metadata": {},
   "source": [
    "## Hypothesis\n",
    "\n",
    "Our final ensemble (and all L2 models) is not predicting anything under 20. Creating a classifier able to identify samples with a Pawpularity under 20 could improve the final ensemble."
   ]
  },
  {
   "cell_type": "code",
   "execution_count": 3,
   "id": "f5a2c715",
   "metadata": {},
   "outputs": [],
   "source": [
    "from ml.vision.data import ImageDataModule\n",
    "from ml.learner import ImageClassifier\n",
    "from ml.params import load_cfg"
   ]
  },
  {
   "cell_type": "code",
   "execution_count": 4,
   "id": "8c846372",
   "metadata": {},
   "outputs": [
    {
     "data": {
      "text/html": [
       "<div>\n",
       "<style scoped>\n",
       "    .dataframe tbody tr th:only-of-type {\n",
       "        vertical-align: middle;\n",
       "    }\n",
       "\n",
       "    .dataframe tbody tr th {\n",
       "        vertical-align: top;\n",
       "    }\n",
       "\n",
       "    .dataframe thead th {\n",
       "        text-align: right;\n",
       "    }\n",
       "</style>\n",
       "<table border=\"1\" class=\"dataframe\">\n",
       "  <thead>\n",
       "    <tr style=\"text-align: right;\">\n",
       "      <th></th>\n",
       "      <th>Unnamed: 0</th>\n",
       "      <th>Unnamed: 0.1</th>\n",
       "      <th>Id</th>\n",
       "      <th>Subject Focus</th>\n",
       "      <th>Eyes</th>\n",
       "      <th>Face</th>\n",
       "      <th>Near</th>\n",
       "      <th>Action</th>\n",
       "      <th>Accessory</th>\n",
       "      <th>Group</th>\n",
       "      <th>Collage</th>\n",
       "      <th>Human</th>\n",
       "      <th>Occlusion</th>\n",
       "      <th>Info</th>\n",
       "      <th>Blur</th>\n",
       "      <th>Pawpularity</th>\n",
       "      <th>kfold</th>\n",
       "      <th>ignore</th>\n",
       "    </tr>\n",
       "  </thead>\n",
       "  <tbody>\n",
       "    <tr>\n",
       "      <th>0</th>\n",
       "      <td>0</td>\n",
       "      <td>0</td>\n",
       "      <td>0007de18844b0dbbb5e1f607da0606e0</td>\n",
       "      <td>0</td>\n",
       "      <td>1</td>\n",
       "      <td>1</td>\n",
       "      <td>1</td>\n",
       "      <td>0</td>\n",
       "      <td>0</td>\n",
       "      <td>1</td>\n",
       "      <td>0</td>\n",
       "      <td>0</td>\n",
       "      <td>0</td>\n",
       "      <td>0</td>\n",
       "      <td>0</td>\n",
       "      <td>63</td>\n",
       "      <td>0</td>\n",
       "      <td>0</td>\n",
       "    </tr>\n",
       "    <tr>\n",
       "      <th>1</th>\n",
       "      <td>1</td>\n",
       "      <td>1</td>\n",
       "      <td>0009c66b9439883ba2750fb825e1d7db</td>\n",
       "      <td>0</td>\n",
       "      <td>1</td>\n",
       "      <td>1</td>\n",
       "      <td>0</td>\n",
       "      <td>0</td>\n",
       "      <td>0</td>\n",
       "      <td>0</td>\n",
       "      <td>0</td>\n",
       "      <td>0</td>\n",
       "      <td>0</td>\n",
       "      <td>0</td>\n",
       "      <td>0</td>\n",
       "      <td>42</td>\n",
       "      <td>2</td>\n",
       "      <td>0</td>\n",
       "    </tr>\n",
       "    <tr>\n",
       "      <th>2</th>\n",
       "      <td>2</td>\n",
       "      <td>2</td>\n",
       "      <td>0013fd999caf9a3efe1352ca1b0d937e</td>\n",
       "      <td>0</td>\n",
       "      <td>1</td>\n",
       "      <td>1</td>\n",
       "      <td>1</td>\n",
       "      <td>0</td>\n",
       "      <td>0</td>\n",
       "      <td>0</td>\n",
       "      <td>0</td>\n",
       "      <td>1</td>\n",
       "      <td>1</td>\n",
       "      <td>0</td>\n",
       "      <td>0</td>\n",
       "      <td>28</td>\n",
       "      <td>3</td>\n",
       "      <td>0</td>\n",
       "    </tr>\n",
       "    <tr>\n",
       "      <th>3</th>\n",
       "      <td>3</td>\n",
       "      <td>3</td>\n",
       "      <td>0018df346ac9c1d8413cfcc888ca8246</td>\n",
       "      <td>0</td>\n",
       "      <td>1</td>\n",
       "      <td>1</td>\n",
       "      <td>1</td>\n",
       "      <td>0</td>\n",
       "      <td>0</td>\n",
       "      <td>0</td>\n",
       "      <td>0</td>\n",
       "      <td>0</td>\n",
       "      <td>0</td>\n",
       "      <td>0</td>\n",
       "      <td>0</td>\n",
       "      <td>15</td>\n",
       "      <td>3</td>\n",
       "      <td>1</td>\n",
       "    </tr>\n",
       "    <tr>\n",
       "      <th>4</th>\n",
       "      <td>4</td>\n",
       "      <td>4</td>\n",
       "      <td>001dc955e10590d3ca4673f034feeef2</td>\n",
       "      <td>0</td>\n",
       "      <td>0</td>\n",
       "      <td>0</td>\n",
       "      <td>1</td>\n",
       "      <td>0</td>\n",
       "      <td>0</td>\n",
       "      <td>1</td>\n",
       "      <td>0</td>\n",
       "      <td>0</td>\n",
       "      <td>0</td>\n",
       "      <td>0</td>\n",
       "      <td>0</td>\n",
       "      <td>72</td>\n",
       "      <td>1</td>\n",
       "      <td>0</td>\n",
       "    </tr>\n",
       "  </tbody>\n",
       "</table>\n",
       "</div>"
      ],
      "text/plain": [
       "   Unnamed: 0  Unnamed: 0.1                                Id  Subject Focus  \\\n",
       "0           0             0  0007de18844b0dbbb5e1f607da0606e0              0   \n",
       "1           1             1  0009c66b9439883ba2750fb825e1d7db              0   \n",
       "2           2             2  0013fd999caf9a3efe1352ca1b0d937e              0   \n",
       "3           3             3  0018df346ac9c1d8413cfcc888ca8246              0   \n",
       "4           4             4  001dc955e10590d3ca4673f034feeef2              0   \n",
       "\n",
       "   Eyes  Face  Near  Action  Accessory  Group  Collage  Human  Occlusion  \\\n",
       "0     1     1     1       0          0      1        0      0          0   \n",
       "1     1     1     0       0          0      0        0      0          0   \n",
       "2     1     1     1       0          0      0        0      1          1   \n",
       "3     1     1     1       0          0      0        0      0          0   \n",
       "4     0     0     1       0          0      1        0      0          0   \n",
       "\n",
       "   Info  Blur  Pawpularity  kfold  ignore  \n",
       "0     0     0           63      0       0  \n",
       "1     0     0           42      2       0  \n",
       "2     0     0           28      3       0  \n",
       "3     0     0           15      3       1  \n",
       "4     0     0           72      1       0  "
      ]
     },
     "execution_count": 4,
     "metadata": {},
     "output_type": "execute_result"
    }
   ],
   "source": [
    "import pandas as pd\n",
    "\n",
    "df = pd.read_csv(\"../data/train_folds.csv\")\n",
    "df.head()"
   ]
  },
  {
   "cell_type": "code",
   "execution_count": 5,
   "id": "5cdb54c3",
   "metadata": {},
   "outputs": [],
   "source": [
    "train_image_fpaths = [f\"../data/train/{i}.jpg\" for i in df[(df.kfold!=0)][\"Id\"]]\n",
    "train_targets = [[t / 100.] for t in df[(df.kfold!=0)].Pawpularity.tolist()]"
   ]
  },
  {
   "cell_type": "code",
   "execution_count": 6,
   "id": "9d4dc087",
   "metadata": {},
   "outputs": [],
   "source": [
    "val_image_fpaths = [f\"../data/train/{i}.jpg\" for i in df[df.kfold==0][\"Id\"]]\n",
    "val_targets = [[t / 100.] for t in df[df.kfold==0].Pawpularity.tolist()]"
   ]
  },
  {
   "cell_type": "code",
   "execution_count": 7,
   "id": "57d1bb55",
   "metadata": {},
   "outputs": [
    {
     "data": {
      "text/plain": [
       "['../data/train/0009c66b9439883ba2750fb825e1d7db.jpg',\n",
       " '../data/train/0013fd999caf9a3efe1352ca1b0d937e.jpg',\n",
       " '../data/train/0018df346ac9c1d8413cfcc888ca8246.jpg',\n",
       " '../data/train/001dc955e10590d3ca4673f034feeef2.jpg',\n",
       " '../data/train/001dd4f6fafb890610b1635f967ea081.jpg']"
      ]
     },
     "execution_count": 7,
     "metadata": {},
     "output_type": "execute_result"
    }
   ],
   "source": [
    "train_image_fpaths[:5]"
   ]
  },
  {
   "cell_type": "code",
   "execution_count": 8,
   "id": "01e56921",
   "metadata": {},
   "outputs": [
    {
     "data": {
      "text/plain": [
       "[[0.42], [0.28], [0.15], [0.72], [0.74]]"
      ]
     },
     "execution_count": 8,
     "metadata": {},
     "output_type": "execute_result"
    }
   ],
   "source": [
    "train_targets[:5]"
   ]
  },
  {
   "cell_type": "code",
   "execution_count": 9,
   "id": "f1952eda",
   "metadata": {},
   "outputs": [
    {
     "data": {
      "text/plain": [
       "{'name': 'two', 'seed': 7591, 'n_folds': 5, 'fold': -1, 'metric': 'auc', 'metric_mode': 'max', 'train_data': 'data/train', 'arch': 'swin_large_patch4_window7_224', 'pretrained': True, 'epochs': 6, 'bs': 64, 'auto_batch_size': False, 'accumulate_grad_batches': 1, 'precision': 'bf16', 'use_normalize': True, 'n_tfms': 1, 'magn': 5, 'sz': 224, 'use_mix': 0, 'mix_p': 0.0, 'resize': -1, 'dropout': 0.0, 'wd': 0.0, 'label_smoothing': 0.1, 'loss': 'bce_with_logits', 'opt': 'adamw', 'sched': 'cosine', 'warmup_epochs': 1, 'lr': 5e-05, 'auto_lr': False, 'mom': 0.9}"
      ]
     },
     "execution_count": 9,
     "metadata": {},
     "output_type": "execute_result"
    }
   ],
   "source": [
    "cfg = load_cfg(\"../params.yaml\", cfg_name=\"train_two\")\n",
    "cfg.metric = 'auc'\n",
    "cfg.metric_mode = 'max'\n",
    "cfg"
   ]
  },
  {
   "cell_type": "code",
   "execution_count": 10,
   "id": "f1d9bfc9",
   "metadata": {},
   "outputs": [],
   "source": [
    "from timm.data import transforms_factory\n",
    "\n",
    "train_aug = transforms_factory.create_transform(\n",
    "    input_size=cfg.sz,\n",
    "    is_training=True,\n",
    "    auto_augment=f\"rand-n{cfg.n_tfms}-m{cfg.magn}\",\n",
    ")\n",
    "val_aug = transforms_factory.create_transform(\n",
    "    input_size=cfg.sz,\n",
    "    is_training=False,\n",
    ")"
   ]
  },
  {
   "cell_type": "code",
   "execution_count": 11,
   "id": "79e2cfbb",
   "metadata": {},
   "outputs": [],
   "source": [
    "dm = ImageDataModule(\n",
    "    task=\"classification\",\n",
    "    batch_size=32,\n",
    "    # train\n",
    "    train_image_paths=train_image_fpaths,\n",
    "    train_targets=train_targets,\n",
    "    train_augmentations=val_aug,\n",
    "    # test\n",
    "    test_image_paths=val_image_fpaths,\n",
    "    test_augmentations=val_aug,\n",
    ")\n",
    "dm.setup()"
   ]
  },
  {
   "cell_type": "code",
   "execution_count": 12,
   "id": "e698b499",
   "metadata": {},
   "outputs": [
    {
     "name": "stderr",
     "output_type": "stream",
     "text": [
      "/opt/conda/lib/python3.8/site-packages/torch/functional.py:445: UserWarning: torch.meshgrid: in an upcoming release, it will be required to pass the indexing argument. (Triggered internally at  /opt/pytorch/pytorch/aten/src/ATen/native/TensorShape.cpp:2156.)\n",
      "  return _VF.meshgrid(tensors, **kwargs)  # type: ignore[attr-defined]\n",
      "/opt/conda/lib/python3.8/site-packages/torch/nn/modules/lazy.py:178: UserWarning: Lazy modules are a new feature under heavy development so changes to the API or functionality can happen at any moment.\n",
      "  warnings.warn('Lazy modules are a new feature under heavy development '\n",
      "/opt/conda/lib/python3.8/site-packages/torchmetrics/utilities/prints.py:36: UserWarning: Metric `AUROC` will save all targets and predictions in buffer. For large datasets this may lead to large memory footprint.\n",
      "  warnings.warn(*args, **kwargs)\n"
     ]
    }
   ],
   "source": [
    "model = ImageClassifier(\n",
    "    in_channels=3,\n",
    "    num_classes=1,\n",
    "    pretrained=cfg.pretrained,\n",
    "    cfg=cfg,\n",
    ")"
   ]
  },
  {
   "cell_type": "code",
   "execution_count": 13,
   "id": "8a71719a",
   "metadata": {},
   "outputs": [
    {
     "name": "stdout",
     "output_type": "stream",
     "text": [
      "['input_1', '0', '1', '2', '3']\n"
     ]
    }
   ],
   "source": [
    "from torchvision.models.feature_extraction import create_feature_extractor\n",
    "from torchvision.models.feature_extraction import get_graph_node_names\n",
    "\n",
    "\n",
    "nodes, _ = get_graph_node_names(model.head)\n",
    "print(nodes)"
   ]
  },
  {
   "cell_type": "code",
   "execution_count": 16,
   "id": "ab9f3510",
   "metadata": {},
   "outputs": [
    {
     "data": {
      "text/plain": [
       "Sequential(\n",
       "  (0): LazyLinear(in_features=0, out_features=128, bias=True)\n",
       "  (1): Dropout(p=0.1, inplace=False)\n",
       "  (2): Linear(in_features=128, out_features=64, bias=True)\n",
       "  (3): Linear(in_features=64, out_features=1, bias=True)\n",
       ")"
      ]
     },
     "execution_count": 16,
     "metadata": {},
     "output_type": "execute_result"
    }
   ],
   "source": [
    "model.head"
   ]
  },
  {
   "cell_type": "code",
   "execution_count": 14,
   "id": "f7129a78",
   "metadata": {},
   "outputs": [],
   "source": [
    "# feature_extractor = create_feature_extractor(\n",
    "#     model.head, return_nodes=['2'])\n",
    "\n",
    "import torch\n",
    "\n",
    "# input = torch.randn(2, 3, 224, 224)\n",
    "# x = model.backbone(input)\n",
    "# out = feature_extractor(x)\n",
    "# out['2']"
   ]
  },
  {
   "cell_type": "code",
   "execution_count": 71,
   "id": "d3ebc0d2",
   "metadata": {},
   "outputs": [
    {
     "data": {
      "text/plain": [
       "['../ckpts/model_two_fold0.ckpt',\n",
       " '../ckpts/model_two_fold1.ckpt',\n",
       " '../ckpts/model_two_fold2.ckpt',\n",
       " '../ckpts/model_two_fold3.ckpt',\n",
       " '../ckpts/model_two_fold4.ckpt']"
      ]
     },
     "execution_count": 71,
     "metadata": {},
     "output_type": "execute_result"
    }
   ],
   "source": [
    "ckpt_fpaths = [\n",
    "    f\"../ckpts/model_{cfg.name}_fold{i}.ckpt\"\n",
    "    for i in range(cfg.n_folds)\n",
    "]\n",
    "ckpt_fpaths"
   ]
  },
  {
   "cell_type": "code",
   "execution_count": 72,
   "id": "03f3b576",
   "metadata": {},
   "outputs": [],
   "source": [
    "# print(f\"Generating predictions using model {cfg.name}...\")\n",
    "# for idx, ckpt_fpath in enumerate(ckpt_fpaths[:2]):\n",
    "ckpt = torch.load(ckpt_fpaths[0])\n",
    "model.load_state_dict(ckpt[\"state_dict\"])\n",
    "\n",
    "model.backbone.to('cuda')\n",
    "model.backbone.eval();"
   ]
  },
  {
   "cell_type": "code",
   "execution_count": 73,
   "id": "2c7f20dc",
   "metadata": {},
   "outputs": [],
   "source": [
    "model.head.to('cuda')\n",
    "model.head.eval()\n",
    "feature_extractor = create_feature_extractor(\n",
    "    model.head, return_nodes=['1'])"
   ]
  },
  {
   "cell_type": "code",
   "execution_count": 74,
   "id": "7f3c4f6a",
   "metadata": {},
   "outputs": [],
   "source": [
    "train_emb = []\n",
    "tar = []\n",
    "for batch in dm.train_dataloader():\n",
    "    out = feature_extractor(model.backbone(batch[0].to('cuda')))['1'].detach().cpu().numpy()\n",
    "    train_emb.extend(out) \n",
    "    tar.extend(batch[1].detach().cpu().numpy())"
   ]
  },
  {
   "cell_type": "code",
   "execution_count": 75,
   "id": "75125b56",
   "metadata": {},
   "outputs": [
    {
     "data": {
      "text/plain": [
       "(7872, 128)"
      ]
     },
     "execution_count": 75,
     "metadata": {},
     "output_type": "execute_result"
    }
   ],
   "source": [
    "import numpy as np\n",
    "\n",
    "train_emb = np.vstack(train_emb)\n",
    "train_emb.shape"
   ]
  },
  {
   "cell_type": "code",
   "execution_count": 76,
   "id": "fe80f58d",
   "metadata": {},
   "outputs": [
    {
     "data": {
      "text/plain": [
       "(7872, 1)"
      ]
     },
     "execution_count": 76,
     "metadata": {},
     "output_type": "execute_result"
    }
   ],
   "source": [
    "tar = np.vstack(tar)\n",
    "tar.shape"
   ]
  },
  {
   "cell_type": "code",
   "execution_count": 77,
   "id": "0f5617ff",
   "metadata": {},
   "outputs": [],
   "source": [
    "from sklearn.svm import SVR\n",
    "from sklearn.linear_model import LassoCV"
   ]
  },
  {
   "cell_type": "code",
   "execution_count": 78,
   "id": "238dd17e",
   "metadata": {},
   "outputs": [
    {
     "name": "stderr",
     "output_type": "stream",
     "text": [
      "/opt/conda/lib/python3.8/site-packages/sklearn/model_selection/_split.py:443: DeprecationWarning: `np.int` is a deprecated alias for the builtin `int`. To silence this warning, use `int` by itself. Doing this will not modify any behavior and is safe. When replacing `np.int`, you may wish to use e.g. `np.int64` or `np.int32` to specify the precision. If you wish to review your current use, check the release note link for additional information.\n",
      "Deprecated in NumPy 1.20; for more details and guidance: https://numpy.org/devdocs/release/1.20.0-notes.html#deprecations\n",
      "  fold_sizes = np.full(n_splits, n_samples // n_splits, dtype=np.int)\n",
      "/opt/conda/lib/python3.8/site-packages/sklearn/model_selection/_split.py:93: DeprecationWarning: `np.bool` is a deprecated alias for the builtin `bool`. To silence this warning, use `bool` by itself. Doing this will not modify any behavior and is safe. If you specifically wanted the numpy scalar type, use `np.bool_` here.\n",
      "Deprecated in NumPy 1.20; for more details and guidance: https://numpy.org/devdocs/release/1.20.0-notes.html#deprecations\n",
      "  test_mask = np.zeros(_num_samples(X), dtype=np.bool)\n",
      "/opt/conda/lib/python3.8/site-packages/sklearn/model_selection/_split.py:93: DeprecationWarning: `np.bool` is a deprecated alias for the builtin `bool`. To silence this warning, use `bool` by itself. Doing this will not modify any behavior and is safe. If you specifically wanted the numpy scalar type, use `np.bool_` here.\n",
      "Deprecated in NumPy 1.20; for more details and guidance: https://numpy.org/devdocs/release/1.20.0-notes.html#deprecations\n",
      "  test_mask = np.zeros(_num_samples(X), dtype=np.bool)\n",
      "/opt/conda/lib/python3.8/site-packages/sklearn/model_selection/_split.py:93: DeprecationWarning: `np.bool` is a deprecated alias for the builtin `bool`. To silence this warning, use `bool` by itself. Doing this will not modify any behavior and is safe. If you specifically wanted the numpy scalar type, use `np.bool_` here.\n",
      "Deprecated in NumPy 1.20; for more details and guidance: https://numpy.org/devdocs/release/1.20.0-notes.html#deprecations\n",
      "  test_mask = np.zeros(_num_samples(X), dtype=np.bool)\n",
      "/opt/conda/lib/python3.8/site-packages/sklearn/model_selection/_split.py:93: DeprecationWarning: `np.bool` is a deprecated alias for the builtin `bool`. To silence this warning, use `bool` by itself. Doing this will not modify any behavior and is safe. If you specifically wanted the numpy scalar type, use `np.bool_` here.\n",
      "Deprecated in NumPy 1.20; for more details and guidance: https://numpy.org/devdocs/release/1.20.0-notes.html#deprecations\n",
      "  test_mask = np.zeros(_num_samples(X), dtype=np.bool)\n",
      "/opt/conda/lib/python3.8/site-packages/sklearn/model_selection/_split.py:93: DeprecationWarning: `np.bool` is a deprecated alias for the builtin `bool`. To silence this warning, use `bool` by itself. Doing this will not modify any behavior and is safe. If you specifically wanted the numpy scalar type, use `np.bool_` here.\n",
      "Deprecated in NumPy 1.20; for more details and guidance: https://numpy.org/devdocs/release/1.20.0-notes.html#deprecations\n",
      "  test_mask = np.zeros(_num_samples(X), dtype=np.bool)\n"
     ]
    },
    {
     "data": {
      "text/plain": [
       "LassoCV()"
      ]
     },
     "execution_count": 78,
     "metadata": {},
     "output_type": "execute_result"
    }
   ],
   "source": [
    "reg = LassoCV()\n",
    "reg.fit(X=train_emb, y=tar.ravel())"
   ]
  },
  {
   "cell_type": "code",
   "execution_count": 79,
   "id": "64da41b0",
   "metadata": {},
   "outputs": [],
   "source": [
    "test_emb = []\n",
    "for batch in dm.test_dataloader():\n",
    "    out = feature_extractor(model.backbone(batch.to('cuda')))['1'].detach().cpu().numpy()\n",
    "    test_emb.extend(out) "
   ]
  },
  {
   "cell_type": "code",
   "execution_count": 80,
   "id": "b92c7431",
   "metadata": {},
   "outputs": [],
   "source": [
    "y_hat = np.clip(reg.predict(X=test_emb), a_min=0, a_max=1)"
   ]
  },
  {
   "cell_type": "code",
   "execution_count": 81,
   "id": "82f0baa6",
   "metadata": {},
   "outputs": [
    {
     "data": {
      "text/plain": [
       "(0.11538547, 0.3834828, 1.0)"
      ]
     },
     "execution_count": 81,
     "metadata": {},
     "output_type": "execute_result"
    }
   ],
   "source": [
    "y_hat.min(), y_hat.mean(), y_hat.max(), "
   ]
  },
  {
   "cell_type": "code",
   "execution_count": 82,
   "id": "f913b253",
   "metadata": {},
   "outputs": [
    {
     "data": {
      "text/plain": [
       "0.1724056672829159"
      ]
     },
     "execution_count": 82,
     "metadata": {},
     "output_type": "execute_result"
    }
   ],
   "source": [
    "from sklearn.metrics import mean_squared_error\n",
    "\n",
    "mean_squared_error(val_targets, y_hat, squared=False)"
   ]
  },
  {
   "cell_type": "code",
   "execution_count": 83,
   "id": "18e070a3",
   "metadata": {},
   "outputs": [
    {
     "data": {
      "text/plain": [
       "17.24"
      ]
     },
     "execution_count": 83,
     "metadata": {},
     "output_type": "execute_result"
    }
   ],
   "source": [
    "17.24"
   ]
  },
  {
   "cell_type": "code",
   "execution_count": 84,
   "id": "a4e1b47a",
   "metadata": {},
   "outputs": [
    {
     "data": {
      "image/png": "[encoded data removed]",
      "text/plain": [
       "<Figure size 432x288 with 1 Axes>"
      ]
     },
     "metadata": {
      "needs_background": "light"
     },
     "output_type": "display_data"
    }
   ],
   "source": [
    "import matplotlib.pyplot as plt\n",
    "\n",
    "plt.hist(y_hat, bins=50);\n",
    "plt.hist(np.array(val_targets), bins=50, alpha=.25);"
   ]
  },
  {
   "cell_type": "markdown",
   "id": "506db21c",
   "metadata": {},
   "source": [
    "## nn.Identity()"
   ]
  },
  {
   "cell_type": "code",
   "execution_count": 85,
   "id": "738100e1",
   "metadata": {},
   "outputs": [
    {
     "name": "stderr",
     "output_type": "stream",
     "text": [
      "/opt/conda/lib/python3.8/site-packages/torch/nn/modules/lazy.py:178: UserWarning: Lazy modules are a new feature under heavy development so changes to the API or functionality can happen at any moment.\n",
      "  warnings.warn('Lazy modules are a new feature under heavy development '\n",
      "/opt/conda/lib/python3.8/site-packages/torchmetrics/utilities/prints.py:36: UserWarning: Metric `AUROC` will save all targets and predictions in buffer. For large datasets this may lead to large memory footprint.\n",
      "  warnings.warn(*args, **kwargs)\n",
      "GPU available: True, used: True\n",
      "TPU available: False, using: 0 TPU cores\n",
      "IPU available: False, using: 0 IPUs\n",
      "LOCAL_RANK: 0 - CUDA_VISIBLE_DEVICES: [0]\n"
     ]
    },
    {
     "data": {
      "application/vnd.jupyter.widget-view+json": {
       "model_id": "cf5e846c217c445c814ec15003828727",
       "version_major": 2,
       "version_minor": 0
      },
      "text/plain": [
       "Predicting: 0it [00:00, ?it/s]"
      ]
     },
     "metadata": {},
     "output_type": "display_data"
    }
   ],
   "source": [
    "dm = ImageDataModule(\n",
    "    task=\"classification\",\n",
    "    batch_size=32,\n",
    "    # test\n",
    "    test_image_paths=train_image_fpaths,\n",
    "    test_augmentations=val_aug,\n",
    ")\n",
    "dm.setup()\n",
    "\n",
    "ckpt = torch.load(ckpt_fpaths[0])\n",
    "model = ImageClassifier(\n",
    "    in_channels=3,\n",
    "    num_classes=1,\n",
    "    pretrained=cfg.pretrained,\n",
    "    cfg=cfg,\n",
    ")\n",
    "model.load_state_dict(ckpt[\"state_dict\"])\n",
    "from torch import nn\n",
    "model.head = nn.Identity()\n",
    "\n",
    "import pytorch_lightning as pl\n",
    "trainer = pl.Trainer(gpus=1)\n",
    "preds = trainer.predict(model, dm.test_dataloader())"
   ]
  },
  {
   "cell_type": "code",
   "execution_count": 86,
   "id": "56d9463b",
   "metadata": {},
   "outputs": [
    {
     "name": "stderr",
     "output_type": "stream",
     "text": [
      "/opt/conda/lib/python3.8/site-packages/sklearn/utils/validation.py:72: DataConversionWarning: A column-vector y was passed when a 1d array was expected. Please change the shape of y to (n_samples, ), for example using ravel().\n",
      "  return f(**kwargs)\n"
     ]
    },
    {
     "data": {
      "text/plain": [
       "SVR()"
      ]
     },
     "execution_count": 86,
     "metadata": {},
     "output_type": "execute_result"
    }
   ],
   "source": [
    "train_emb = np.vstack(preds)\n",
    "reg = SVR()\n",
    "reg.fit(X=train_emb, y=train_targets)"
   ]
  },
  {
   "cell_type": "code",
   "execution_count": 87,
   "id": "244da07b",
   "metadata": {},
   "outputs": [
    {
     "name": "stderr",
     "output_type": "stream",
     "text": [
      "/opt/conda/lib/python3.8/site-packages/torch/nn/modules/lazy.py:178: UserWarning: Lazy modules are a new feature under heavy development so changes to the API or functionality can happen at any moment.\n",
      "  warnings.warn('Lazy modules are a new feature under heavy development '\n",
      "/opt/conda/lib/python3.8/site-packages/torchmetrics/utilities/prints.py:36: UserWarning: Metric `AUROC` will save all targets and predictions in buffer. For large datasets this may lead to large memory footprint.\n",
      "  warnings.warn(*args, **kwargs)\n",
      "GPU available: True, used: True\n",
      "TPU available: False, using: 0 TPU cores\n",
      "IPU available: False, using: 0 IPUs\n",
      "LOCAL_RANK: 0 - CUDA_VISIBLE_DEVICES: [0]\n"
     ]
    },
    {
     "data": {
      "application/vnd.jupyter.widget-view+json": {
       "model_id": "9e01c47672154f059ebb8be542123ecc",
       "version_major": 2,
       "version_minor": 0
      },
      "text/plain": [
       "Predicting: 0it [00:00, ?it/s]"
      ]
     },
     "metadata": {},
     "output_type": "display_data"
    }
   ],
   "source": [
    "dm = ImageDataModule(\n",
    "    task=\"classification\",\n",
    "    batch_size=32,\n",
    "    # test\n",
    "    test_image_paths=val_image_fpaths,\n",
    "    test_augmentations=val_aug,\n",
    ")\n",
    "dm.setup()\n",
    "\n",
    "ckpt = torch.load(ckpt_fpaths[0])\n",
    "model = ImageClassifier(\n",
    "    in_channels=3,\n",
    "    num_classes=1,\n",
    "    pretrained=cfg.pretrained,\n",
    "    cfg=cfg,\n",
    ")\n",
    "model.load_state_dict(ckpt[\"state_dict\"])\n",
    "from torch import nn\n",
    "model.head = nn.Identity()\n",
    "\n",
    "import pytorch_lightning as pl\n",
    "trainer = pl.Trainer(gpus=1)\n",
    "preds = trainer.predict(model, dm.test_dataloader())"
   ]
  },
  {
   "cell_type": "code",
   "execution_count": 88,
   "id": "51960c17",
   "metadata": {},
   "outputs": [],
   "source": [
    "test_emb = np.vstack(preds)\n",
    "y_hat = np.clip(reg.predict(X=test_emb), a_min=0, a_max=1)"
   ]
  },
  {
   "cell_type": "code",
   "execution_count": 89,
   "id": "b0edbfbf",
   "metadata": {},
   "outputs": [
    {
     "data": {
      "text/plain": [
       "(0.07818510943675377, 0.39200319615122403, 1.0)"
      ]
     },
     "execution_count": 89,
     "metadata": {},
     "output_type": "execute_result"
    }
   ],
   "source": [
    "y_hat.min(), y_hat.mean(), y_hat.max(), "
   ]
  },
  {
   "cell_type": "code",
   "execution_count": 90,
   "id": "896cbc8a",
   "metadata": {},
   "outputs": [
    {
     "data": {
      "text/plain": [
       "0.17914925780404223"
      ]
     },
     "execution_count": 90,
     "metadata": {},
     "output_type": "execute_result"
    }
   ],
   "source": [
    "from sklearn.metrics import mean_squared_error\n",
    "\n",
    "mean_squared_error(val_targets, y_hat, squared=False)"
   ]
  },
  {
   "cell_type": "code",
   "execution_count": 91,
   "id": "23a61bcc",
   "metadata": {},
   "outputs": [
    {
     "data": {
      "image/png": "[encoded data removed]",
      "text/plain": [
       "<Figure size 432x288 with 1 Axes>"
      ]
     },
     "metadata": {
      "needs_background": "light"
     },
     "output_type": "display_data"
    }
   ],
   "source": [
    "import matplotlib.pyplot as plt\n",
    "\n",
    "plt.hist(y_hat, bins=50);\n",
    "plt.hist(np.array(val_targets), bins=50, alpha=.25);"
   ]
  },
  {
   "cell_type": "code",
   "execution_count": null,
   "id": "49ed9af5",
   "metadata": {},
   "outputs": [],
   "source": []
  },
  {
   "cell_type": "code",
   "execution_count": null,
   "id": "76fbe949",
   "metadata": {},
   "outputs": [],
   "source": []
  }
 ],
 "metadata": {
  "kernelspec": {
   "display_name": "Python 3 (ipykernel)",
   "language": "python",
   "name": "python3"
  },
  "language_info": {
   "codemirror_mode": {
    "name": "ipython",
    "version": 3
   },
   "file_extension": ".py",
   "mimetype": "text/x-python",
   "name": "python",
   "nbconvert_exporter": "python",
   "pygments_lexer": "ipython3",
   "version": "3.8.12"
  }
 },
 "nbformat": 4,
 "nbformat_minor": 5
}
