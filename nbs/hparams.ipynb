{
 "cells": [
  {
   "cell_type": "code",
   "execution_count": 1,
   "id": "6c2cb4e7",
   "metadata": {},
   "outputs": [],
   "source": [
    "import pytorch_lightning as pl\n",
    "from omegaconf import OmegaConf"
   ]
  },
  {
   "cell_type": "code",
   "execution_count": 2,
   "id": "cf72d0f6",
   "metadata": {},
   "outputs": [
    {
     "data": {
      "text/plain": [
       "{'sz': 224, 'bs': 128}"
      ]
     },
     "execution_count": 2,
     "metadata": {},
     "output_type": "execute_result"
    }
   ],
   "source": [
    "cfg = OmegaConf.create({\n",
    "    \"sz\": 224,\n",
    "    \"bs\": 128,\n",
    "})\n",
    "cfg"
   ]
  },
  {
   "cell_type": "code",
   "execution_count": 3,
   "id": "7215aef1",
   "metadata": {},
   "outputs": [],
   "source": [
    "class LitModel(pl.LightningModule):\n",
    "    def __init__(self, **kwargs):\n",
    "        super().__init__()\n",
    "        self.save_hyperparameters()"
   ]
  },
  {
   "cell_type": "code",
   "execution_count": 4,
   "id": "f00cd62c",
   "metadata": {},
   "outputs": [],
   "source": [
    "model = LitModel(cfg=cfg, in_dim=32)"
   ]
  },
  {
   "cell_type": "code",
   "execution_count": 5,
   "id": "fce2939b",
   "metadata": {},
   "outputs": [
    {
     "data": {
      "text/plain": [
       "True"
      ]
     },
     "execution_count": 5,
     "metadata": {},
     "output_type": "execute_result"
    }
   ],
   "source": [
    "isinstance(model, pl.LightningModule)"
   ]
  },
  {
   "cell_type": "code",
   "execution_count": 6,
   "id": "8b8a7b9f",
   "metadata": {},
   "outputs": [
    {
     "data": {
      "text/plain": [
       "\"cfg\":    {'sz': 224, 'bs': 128}\n",
       "\"in_dim\": 32"
      ]
     },
     "execution_count": 6,
     "metadata": {},
     "output_type": "execute_result"
    }
   ],
   "source": [
    "model.hparams"
   ]
  },
  {
   "cell_type": "code",
   "execution_count": 7,
   "id": "40f9b3c5",
   "metadata": {},
   "outputs": [
    {
     "data": {
      "text/plain": [
       "224"
      ]
     },
     "execution_count": 7,
     "metadata": {},
     "output_type": "execute_result"
    }
   ],
   "source": [
    "model.hparams.cfg.sz"
   ]
  },
  {
   "cell_type": "code",
   "execution_count": 8,
   "id": "3ab4083f",
   "metadata": {},
   "outputs": [],
   "source": [
    "model2 = LitModel(**cfg, some=True)"
   ]
  },
  {
   "cell_type": "code",
   "execution_count": 9,
   "id": "af9913e9",
   "metadata": {},
   "outputs": [
    {
     "data": {
      "text/plain": [
       "\"bs\":   128\n",
       "\"some\": True\n",
       "\"sz\":   224"
      ]
     },
     "execution_count": 9,
     "metadata": {},
     "output_type": "execute_result"
    }
   ],
   "source": [
    "model2.hparams"
   ]
  },
  {
   "cell_type": "code",
   "execution_count": 10,
   "id": "71eea7bb",
   "metadata": {},
   "outputs": [
    {
     "data": {
      "text/plain": [
       "224"
      ]
     },
     "execution_count": 10,
     "metadata": {},
     "output_type": "execute_result"
    }
   ],
   "source": [
    "model2.hparams.sz"
   ]
  },
  {
   "cell_type": "markdown",
   "id": "e0338a73",
   "metadata": {},
   "source": [
    "I guess it makes more sense from a design standpoint to use `kwargs` in the constructor and unpack the `OmegaConf` object. This will be more flexible and easier to use."
   ]
  }
 ],
 "metadata": {
  "kernelspec": {
   "display_name": "Python 3 (ipykernel)",
   "language": "python",
   "name": "python3"
  },
  "language_info": {
   "codemirror_mode": {
    "name": "ipython",
    "version": 3
   },
   "file_extension": ".py",
   "mimetype": "text/x-python",
   "name": "python",
   "nbconvert_exporter": "python",
   "pygments_lexer": "ipython3",
   "version": "3.8.10"
  }
 },
 "nbformat": 4,
 "nbformat_minor": 5
}
