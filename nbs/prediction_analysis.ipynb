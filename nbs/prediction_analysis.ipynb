{
 "cells": [
  {
   "cell_type": "code",
   "execution_count": 1,
   "id": "26a1283f",
   "metadata": {},
   "outputs": [],
   "source": [
    "import matplotlib.pyplot as plt\n",
    "import numpy as np\n",
    "import pandas as pd"
   ]
  },
  {
   "cell_type": "code",
   "execution_count": 2,
   "id": "22a1f15f",
   "metadata": {},
   "outputs": [],
   "source": [
    "train = pd.read_csv('../data/train_folds.csv')"
   ]
  },
  {
   "cell_type": "code",
   "execution_count": 3,
   "id": "c156d148",
   "metadata": {},
   "outputs": [],
   "source": [
    "preds = np.load('../preds/model_one_fold0.npy')"
   ]
  },
  {
   "cell_type": "code",
   "execution_count": 4,
   "id": "cc071bc4",
   "metadata": {},
   "outputs": [],
   "source": [
    "mean_train_pawpularity = train.Pawpularity.mean()"
   ]
  },
  {
   "cell_type": "code",
   "execution_count": 5,
   "id": "af44fef0",
   "metadata": {},
   "outputs": [
    {
     "data": {
      "text/plain": [
       "<matplotlib.legend.Legend at 0x7f4ee5d0a580>"
      ]
     },
     "execution_count": 5,
     "metadata": {},
     "output_type": "execute_result"
    },
    {
     "data": {
      "image/png": "[encoded data removed]",
      "text/plain": [
       "<Figure size 432x288 with 1 Axes>"
      ]
     },
     "metadata": {
      "needs_background": "light"
     },
     "output_type": "display_data"
    }
   ],
   "source": [
    "train.Pawpularity.hist(bins=100)\n",
    "plt.vlines(x=mean_train_pawpularity, color='red', ymin=0, ymax=320, label='Mean Pawpularity Score')\n",
    "plt.legend()"
   ]
  },
  {
   "cell_type": "code",
   "execution_count": 6,
   "id": "838e37b5",
   "metadata": {},
   "outputs": [
    {
     "data": {
      "image/png": "[encoded data removed]",
      "text/plain": [
       "<Figure size 432x288 with 1 Axes>"
      ]
     },
     "metadata": {
      "needs_background": "light"
     },
     "output_type": "display_data"
    }
   ],
   "source": [
    "plt.hist(preds * 100, bins=100, range=(0, 100));"
   ]
  },
  {
   "cell_type": "markdown",
   "id": "c6182df5",
   "metadata": {},
   "source": [
    "- [ ] Are extreme predictions more correct?\n",
    "- [ ] Is the \"sign\" correct?\n",
    "- [ ] Error rate by Pawpularity score"
   ]
  },
  {
   "cell_type": "code",
   "execution_count": null,
   "id": "922fc255",
   "metadata": {},
   "outputs": [],
   "source": []
  }
 ],
 "metadata": {
  "kernelspec": {
   "display_name": "Python 3 (ipykernel)",
   "language": "python",
   "name": "python3"
  },
  "language_info": {
   "codemirror_mode": {
    "name": "ipython",
    "version": 3
   },
   "file_extension": ".py",
   "mimetype": "text/x-python",
   "name": "python",
   "nbconvert_exporter": "python",
   "pygments_lexer": "ipython3",
   "version": "3.8.10"
  }
 },
 "nbformat": 4,
 "nbformat_minor": 5
}
