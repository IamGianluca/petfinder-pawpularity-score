{
 "cells": [
  {
   "cell_type": "markdown",
   "id": "bdef7777",
   "metadata": {},
   "source": [
    "## Hypothesis\n",
    "\n",
    "Predicting the exact score is hard. We could reduce the complexity by interpreting this challenge as an **ordinal classification** problem. The key point here is that the probability of `class_1` is lower than `class_0`. Multi-class or multi-label problems do not have this critical ingridient.\n",
    "\n",
    "To start, we could reduce the number of classes from 100 to 10, and encode them in a way that let the model understand that the the probability of Pawpularity been higher than 20, is strictly lower than higher than 10."
   ]
  },
  {
   "cell_type": "code",
   "execution_count": 1,
   "id": "650070e0",
   "metadata": {},
   "outputs": [],
   "source": [
    "%load_ext autoreload\n",
    "%autoreload 2"
   ]
  },
  {
   "cell_type": "code",
   "execution_count": 2,
   "id": "f652732b",
   "metadata": {},
   "outputs": [],
   "source": [
    "from ml.vision.data import ImageDataModule\n",
    "from ml.learner import ImageClassifier\n",
    "from ml.params import load_cfg"
   ]
  },
  {
   "cell_type": "code",
   "execution_count": 3,
   "id": "9419caa3",
   "metadata": {},
   "outputs": [
    {
     "data": {
      "text/html": [
       "<div>\n",
       "<style scoped>\n",
       "    .dataframe tbody tr th:only-of-type {\n",
       "        vertical-align: middle;\n",
       "    }\n",
       "\n",
       "    .dataframe tbody tr th {\n",
       "        vertical-align: top;\n",
       "    }\n",
       "\n",
       "    .dataframe thead th {\n",
       "        text-align: right;\n",
       "    }\n",
       "</style>\n",
       "<table border=\"1\" class=\"dataframe\">\n",
       "  <thead>\n",
       "    <tr style=\"text-align: right;\">\n",
       "      <th></th>\n",
       "      <th>Unnamed: 0</th>\n",
       "      <th>Unnamed: 0.1</th>\n",
       "      <th>Id</th>\n",
       "      <th>Subject Focus</th>\n",
       "      <th>Eyes</th>\n",
       "      <th>Face</th>\n",
       "      <th>Near</th>\n",
       "      <th>Action</th>\n",
       "      <th>Accessory</th>\n",
       "      <th>Group</th>\n",
       "      <th>Collage</th>\n",
       "      <th>Human</th>\n",
       "      <th>Occlusion</th>\n",
       "      <th>Info</th>\n",
       "      <th>Blur</th>\n",
       "      <th>Pawpularity</th>\n",
       "      <th>kfold</th>\n",
       "      <th>ignore</th>\n",
       "    </tr>\n",
       "  </thead>\n",
       "  <tbody>\n",
       "    <tr>\n",
       "      <th>0</th>\n",
       "      <td>0</td>\n",
       "      <td>0</td>\n",
       "      <td>0007de18844b0dbbb5e1f607da0606e0</td>\n",
       "      <td>0</td>\n",
       "      <td>1</td>\n",
       "      <td>1</td>\n",
       "      <td>1</td>\n",
       "      <td>0</td>\n",
       "      <td>0</td>\n",
       "      <td>1</td>\n",
       "      <td>0</td>\n",
       "      <td>0</td>\n",
       "      <td>0</td>\n",
       "      <td>0</td>\n",
       "      <td>0</td>\n",
       "      <td>63</td>\n",
       "      <td>0</td>\n",
       "      <td>0</td>\n",
       "    </tr>\n",
       "    <tr>\n",
       "      <th>1</th>\n",
       "      <td>1</td>\n",
       "      <td>1</td>\n",
       "      <td>0009c66b9439883ba2750fb825e1d7db</td>\n",
       "      <td>0</td>\n",
       "      <td>1</td>\n",
       "      <td>1</td>\n",
       "      <td>0</td>\n",
       "      <td>0</td>\n",
       "      <td>0</td>\n",
       "      <td>0</td>\n",
       "      <td>0</td>\n",
       "      <td>0</td>\n",
       "      <td>0</td>\n",
       "      <td>0</td>\n",
       "      <td>0</td>\n",
       "      <td>42</td>\n",
       "      <td>2</td>\n",
       "      <td>0</td>\n",
       "    </tr>\n",
       "    <tr>\n",
       "      <th>2</th>\n",
       "      <td>2</td>\n",
       "      <td>2</td>\n",
       "      <td>0013fd999caf9a3efe1352ca1b0d937e</td>\n",
       "      <td>0</td>\n",
       "      <td>1</td>\n",
       "      <td>1</td>\n",
       "      <td>1</td>\n",
       "      <td>0</td>\n",
       "      <td>0</td>\n",
       "      <td>0</td>\n",
       "      <td>0</td>\n",
       "      <td>1</td>\n",
       "      <td>1</td>\n",
       "      <td>0</td>\n",
       "      <td>0</td>\n",
       "      <td>28</td>\n",
       "      <td>3</td>\n",
       "      <td>0</td>\n",
       "    </tr>\n",
       "    <tr>\n",
       "      <th>3</th>\n",
       "      <td>3</td>\n",
       "      <td>3</td>\n",
       "      <td>0018df346ac9c1d8413cfcc888ca8246</td>\n",
       "      <td>0</td>\n",
       "      <td>1</td>\n",
       "      <td>1</td>\n",
       "      <td>1</td>\n",
       "      <td>0</td>\n",
       "      <td>0</td>\n",
       "      <td>0</td>\n",
       "      <td>0</td>\n",
       "      <td>0</td>\n",
       "      <td>0</td>\n",
       "      <td>0</td>\n",
       "      <td>0</td>\n",
       "      <td>15</td>\n",
       "      <td>3</td>\n",
       "      <td>1</td>\n",
       "    </tr>\n",
       "    <tr>\n",
       "      <th>4</th>\n",
       "      <td>4</td>\n",
       "      <td>4</td>\n",
       "      <td>001dc955e10590d3ca4673f034feeef2</td>\n",
       "      <td>0</td>\n",
       "      <td>0</td>\n",
       "      <td>0</td>\n",
       "      <td>1</td>\n",
       "      <td>0</td>\n",
       "      <td>0</td>\n",
       "      <td>1</td>\n",
       "      <td>0</td>\n",
       "      <td>0</td>\n",
       "      <td>0</td>\n",
       "      <td>0</td>\n",
       "      <td>0</td>\n",
       "      <td>72</td>\n",
       "      <td>1</td>\n",
       "      <td>0</td>\n",
       "    </tr>\n",
       "  </tbody>\n",
       "</table>\n",
       "</div>"
      ],
      "text/plain": [
       "   Unnamed: 0  Unnamed: 0.1                                Id  Subject Focus  \\\n",
       "0           0             0  0007de18844b0dbbb5e1f607da0606e0              0   \n",
       "1           1             1  0009c66b9439883ba2750fb825e1d7db              0   \n",
       "2           2             2  0013fd999caf9a3efe1352ca1b0d937e              0   \n",
       "3           3             3  0018df346ac9c1d8413cfcc888ca8246              0   \n",
       "4           4             4  001dc955e10590d3ca4673f034feeef2              0   \n",
       "\n",
       "   Eyes  Face  Near  Action  Accessory  Group  Collage  Human  Occlusion  \\\n",
       "0     1     1     1       0          0      1        0      0          0   \n",
       "1     1     1     0       0          0      0        0      0          0   \n",
       "2     1     1     1       0          0      0        0      1          1   \n",
       "3     1     1     1       0          0      0        0      0          0   \n",
       "4     0     0     1       0          0      1        0      0          0   \n",
       "\n",
       "   Info  Blur  Pawpularity  kfold  ignore  \n",
       "0     0     0           63      0       0  \n",
       "1     0     0           42      2       0  \n",
       "2     0     0           28      3       0  \n",
       "3     0     0           15      3       1  \n",
       "4     0     0           72      1       0  "
      ]
     },
     "execution_count": 3,
     "metadata": {},
     "output_type": "execute_result"
    }
   ],
   "source": [
    "import pandas as pd\n",
    "\n",
    "df = pd.read_csv(\"../data/train_folds.csv\")\n",
    "df.head()"
   ]
  },
  {
   "cell_type": "markdown",
   "id": "7530ed59",
   "metadata": {},
   "source": [
    "One way to encode the ordinal information is:\n",
    "\n",
    "* `class_0`: `[0, 0, 0, 0, 0, 0, 0, 0, 0]`,\n",
    "* `class_1`: `[1, 0, 0, 0, 0, 0, 0, 0, 0]`,\n",
    "* `class_2`: `[1, 1, 0, 0, 0, 0, 0, 0, 0]`,\n",
    "* ...\n",
    "\n",
    "Due to this encoding scheme, the model will learn that having the first 8 elements equal to 1 is less likely than having just the first 2 elements equal to 1.\n",
    "\n",
    "At prediction/inference time, we can then postprocess the predictions to match the range of the original target variable ― e.g., `class_0` -> `5`, `class_9` -> `95`."
   ]
  },
  {
   "cell_type": "code",
   "execution_count": 4,
   "id": "8955e4bd",
   "metadata": {},
   "outputs": [],
   "source": [
    "cls2enc = {\n",
    "    0: [0, 0, 0, 0, 0, 0, 0, 0, 0],\n",
    "    1: [1, 0, 0, 0, 0, 0, 0, 0, 0],\n",
    "    2: [1, 1, 0, 0, 0, 0, 0, 0, 0],\n",
    "    3: [1, 1, 1, 0, 0, 0, 0, 0, 0],\n",
    "    4: [1, 1, 1, 1, 0, 0, 0, 0, 0],\n",
    "    5: [1, 1, 1, 1, 1, 0, 0, 0, 0],\n",
    "    6: [1, 1, 1, 1, 1, 1, 0, 0, 0],\n",
    "    7: [1, 1, 1, 1, 1, 1, 1, 0, 0],\n",
    "    8: [1, 1, 1, 1, 1, 1, 1, 1, 0],\n",
    "    9: [1, 1, 1, 1, 1, 1, 1, 1, 1]\n",
    "}\n",
    "\n",
    "# NOTE: lists are not hashable objects, so cannot be used as keys in\n",
    "# a dictionary. One trick is to convert the list to a set, as these \n",
    "# are immutable and hashable\n",
    "enc2cls = {tuple(v): k for k, v in cls2enc.items()}"
   ]
  },
  {
   "cell_type": "code",
   "execution_count": 5,
   "id": "d4aba5b6",
   "metadata": {},
   "outputs": [
    {
     "data": {
      "text/plain": [
       "{(0, 0, 0, 0, 0, 0, 0, 0, 0): 0,\n",
       " (1, 0, 0, 0, 0, 0, 0, 0, 0): 1,\n",
       " (1, 1, 0, 0, 0, 0, 0, 0, 0): 2,\n",
       " (1, 1, 1, 0, 0, 0, 0, 0, 0): 3,\n",
       " (1, 1, 1, 1, 0, 0, 0, 0, 0): 4,\n",
       " (1, 1, 1, 1, 1, 0, 0, 0, 0): 5,\n",
       " (1, 1, 1, 1, 1, 1, 0, 0, 0): 6,\n",
       " (1, 1, 1, 1, 1, 1, 1, 0, 0): 7,\n",
       " (1, 1, 1, 1, 1, 1, 1, 1, 0): 8,\n",
       " (1, 1, 1, 1, 1, 1, 1, 1, 1): 9}"
      ]
     },
     "execution_count": 5,
     "metadata": {},
     "output_type": "execute_result"
    }
   ],
   "source": [
    "enc2cls"
   ]
  },
  {
   "cell_type": "code",
   "execution_count": 6,
   "id": "18666133",
   "metadata": {},
   "outputs": [],
   "source": [
    "train_image_fpaths = [f\"../data/train/{i}.jpg\" for i in df[df.kfold!=0][\"Id\"]]\n",
    "train_targets = [cls2enc[t] for t in pd.cut(df[df.kfold!=0].Pawpularity.tolist(), bins=10, retbins=True, labels=False)[0].tolist()]"
   ]
  },
  {
   "cell_type": "code",
   "execution_count": 7,
   "id": "d1e10ce5",
   "metadata": {},
   "outputs": [
    {
     "name": "stdout",
     "output_type": "stream",
     "text": [
      "Original target: [42, 28, 15, 72, 74]\n",
      "New target: [[1, 1, 1, 1, 0, 0, 0, 0, 0], [1, 1, 0, 0, 0, 0, 0, 0, 0], [1, 0, 0, 0, 0, 0, 0, 0, 0], [1, 1, 1, 1, 1, 1, 1, 0, 0], [1, 1, 1, 1, 1, 1, 1, 0, 0]]\n"
     ]
    }
   ],
   "source": [
    "print(f\"Original target: {df[df.kfold!=0].Pawpularity.tolist()[:5]}\")\n",
    "print(f\"New target: {train_targets[:5]}\")"
   ]
  },
  {
   "cell_type": "code",
   "execution_count": 8,
   "id": "86cbd453",
   "metadata": {},
   "outputs": [],
   "source": [
    "val_image_fpaths = [f\"../data/train/{i}.jpg\" for i in df[df.kfold==0][\"Id\"]]\n",
    "val_targets = [cls2enc[t] for t in pd.cut(df[df.kfold==0].Pawpularity.tolist(), bins=10, retbins=True, labels=False)[0].tolist()]"
   ]
  },
  {
   "cell_type": "code",
   "execution_count": 9,
   "id": "0c6487b5",
   "metadata": {},
   "outputs": [
    {
     "data": {
      "text/plain": [
       "[[1, 1, 1, 1, 1, 1, 0, 0, 0],\n",
       " [1, 1, 0, 0, 0, 0, 0, 0, 0],\n",
       " [1, 1, 1, 1, 1, 0, 0, 0, 0],\n",
       " [1, 1, 1, 1, 1, 1, 1, 1, 1],\n",
       " [1, 1, 0, 0, 0, 0, 0, 0, 0]]"
      ]
     },
     "execution_count": 9,
     "metadata": {},
     "output_type": "execute_result"
    }
   ],
   "source": [
    "val_targets[:5]"
   ]
  },
  {
   "cell_type": "markdown",
   "id": "8b7d98e4",
   "metadata": {},
   "source": [
    "## Model training \n",
    "\n",
    "Let's use a Swin transformer architecture as backbone for our model, and use a head with 9 output nodes to match the size of our targets.\n",
    "\n",
    "We will use AUROC to monitor the performance of the model as if this was a multi-label classification model. After having fitted the model, we will reproces the model's predictions to match the original scale of the target variable. Hopefully, RMSE should be not too far ― or better ― than what we were able to achieve by threating the problem as a binary classification problem."
   ]
  },
  {
   "cell_type": "code",
   "execution_count": 10,
   "id": "deee1edc",
   "metadata": {},
   "outputs": [
    {
     "data": {
      "text/plain": [
       "{'name': 'two', 'seed': 7591, 'n_folds': 5, 'fold': -1, 'metric': 'auc', 'metric_mode': 'max', 'train_data': 'data/train', 'arch': 'swin_large_patch4_window7_224', 'pretrained': True, 'epochs': 6, 'bs': 64, 'auto_batch_size': False, 'accumulate_grad_batches': 1, 'precision': 'bf16', 'use_normalize': True, 'n_tfms': 1, 'magn': 5, 'sz': 224, 'use_mix': 0, 'mix_p': 0.0, 'resize': -1, 'dropout': 0.0, 'wd': 0.0, 'label_smoothing': 0.1, 'loss': 'bce_with_logits', 'opt': 'adamw', 'sched': 'cosine', 'warmup_epochs': 1, 'lr': 5e-05, 'auto_lr': False, 'mom': 0.9, 'num_classes': 9}"
      ]
     },
     "execution_count": 10,
     "metadata": {},
     "output_type": "execute_result"
    }
   ],
   "source": [
    "cfg = load_cfg(\"../params.yaml\", cfg_name=\"train_two\")\n",
    "cfg.metric = 'auc'\n",
    "cfg.metric_mode = 'max'\n",
    "cfg.num_classes = 9\n",
    "cfg"
   ]
  },
  {
   "cell_type": "code",
   "execution_count": 11,
   "id": "34ed0cb8",
   "metadata": {},
   "outputs": [],
   "source": [
    "from timm.data import transforms_factory\n",
    "\n",
    "train_aug = transforms_factory.create_transform(\n",
    "    input_size=cfg.sz,\n",
    "    is_training=True,\n",
    "    auto_augment=f\"rand-n{cfg.n_tfms}-m{cfg.magn}\",\n",
    ")\n",
    "val_aug = transforms_factory.create_transform(\n",
    "    input_size=cfg.sz,\n",
    "    is_training=False,\n",
    ")"
   ]
  },
  {
   "cell_type": "code",
   "execution_count": 12,
   "id": "a623e620",
   "metadata": {},
   "outputs": [],
   "source": [
    "dm = ImageDataModule(\n",
    "    task=\"classification\",\n",
    "    batch_size=cfg.bs,\n",
    "    # train\n",
    "    train_image_paths=train_image_fpaths,\n",
    "    train_targets=train_targets,\n",
    "    train_augmentations=train_aug,\n",
    "    # valid\n",
    "    val_image_paths=val_image_fpaths,\n",
    "    val_targets=val_targets,\n",
    "    val_augmentations=val_aug,\n",
    "    # test\n",
    "    test_image_paths=val_image_fpaths,\n",
    "    test_augmentations=val_aug,\n",
    ")"
   ]
  },
  {
   "cell_type": "code",
   "execution_count": 14,
   "id": "21f9b4bd",
   "metadata": {},
   "outputs": [
    {
     "name": "stderr",
     "output_type": "stream",
     "text": [
      "/opt/conda/lib/python3.8/site-packages/torch/functional.py:445: UserWarning: torch.meshgrid: in an upcoming release, it will be required to pass the indexing argument. (Triggered internally at  /opt/pytorch/pytorch/aten/src/ATen/native/TensorShape.cpp:2156.)\n",
      "  return _VF.meshgrid(tensors, **kwargs)  # type: ignore[attr-defined]\n",
      "/opt/conda/lib/python3.8/site-packages/torch/nn/modules/lazy.py:178: UserWarning: Lazy modules are a new feature under heavy development so changes to the API or functionality can happen at any moment.\n",
      "  warnings.warn('Lazy modules are a new feature under heavy development '\n",
      "/opt/conda/lib/python3.8/site-packages/torchmetrics/utilities/prints.py:36: UserWarning: Metric `AUROC` will save all targets and predictions in buffer. For large datasets this may lead to large memory footprint.\n",
      "  warnings.warn(*args, **kwargs)\n"
     ]
    }
   ],
   "source": [
    "model = ImageClassifier(\n",
    "    in_channels=3,\n",
    "    num_classes=10,  # NOTE: 10 classes. All 0s is a class in itself\n",
    "    pretrained=cfg.pretrained,\n",
    "    cfg=cfg,\n",
    ")"
   ]
  },
  {
   "cell_type": "code",
   "execution_count": 15,
   "id": "917f5e41",
   "metadata": {},
   "outputs": [
    {
     "data": {
      "text/plain": [
       "Sequential(\n",
       "  (0): LazyLinear(in_features=0, out_features=128, bias=True)\n",
       "  (1): Dropout(p=0.1, inplace=False)\n",
       "  (2): Linear(in_features=128, out_features=64, bias=True)\n",
       "  (3): Linear(in_features=64, out_features=9, bias=True)\n",
       ")"
      ]
     },
     "execution_count": 15,
     "metadata": {},
     "output_type": "execute_result"
    }
   ],
   "source": [
    "from torch import nn\n",
    "\n",
    "model.head = nn.Sequential(\n",
    "    nn.LazyLinear(128),\n",
    "    nn.Dropout(p=0.1),\n",
    "    nn.Linear(128, 64),\n",
    "    nn.Linear(64, 9),  # NOTE: 9 nodes output\n",
    ")\n",
    "model.head"
   ]
  },
  {
   "cell_type": "code",
   "execution_count": 16,
   "id": "c898f37a",
   "metadata": {},
   "outputs": [
    {
     "name": "stderr",
     "output_type": "stream",
     "text": [
      "Using bfloat16 Automatic Mixed Precision (AMP)\n",
      "GPU available: True, used: True\n",
      "TPU available: False, using: 0 TPU cores\n",
      "IPU available: False, using: 0 IPUs\n"
     ]
    }
   ],
   "source": [
    "import pytorch_lightning as pl \n",
    "\n",
    "trainer = pl.Trainer(\n",
    "    gpus=1,\n",
    "    precision=cfg.precision,\n",
    "    auto_lr_find=cfg.auto_lr,\n",
    "    accumulate_grad_batches=cfg.accumulate_grad_batches,\n",
    "    auto_scale_batch_size=cfg.auto_batch_size,\n",
    "    max_epochs=cfg.epochs,\n",
    ")"
   ]
  },
  {
   "cell_type": "code",
   "execution_count": 17,
   "id": "d9cdfabc",
   "metadata": {},
   "outputs": [
    {
     "name": "stderr",
     "output_type": "stream",
     "text": [
      "LOCAL_RANK: 0 - CUDA_VISIBLE_DEVICES: [0,1]\n"
     ]
    },
    {
     "name": "stdout",
     "output_type": "stream",
     "text": [
      "TrainerFn.FITTING\n"
     ]
    },
    {
     "name": "stderr",
     "output_type": "stream",
     "text": [
      "/opt/conda/lib/python3.8/site-packages/pytorch_lightning/utilities/model_summary.py:431: UserWarning: A layer with UninitializedParameter was found. Thus, the total number of parameters detected may be inaccurate.\n",
      "  warning_cache.warn(\n",
      "\n",
      "  | Name         | Type            | Params\n",
      "-------------------------------------------------\n",
      "0 | backbone     | SwinTransformer | 194 M \n",
      "1 | head         | Sequential      | 8.8 K \n",
      "2 | train_metric | AUROC           | 0     \n",
      "3 | val_metric   | AUROC           | 0     \n",
      "-------------------------------------------------\n",
      "195 M     Trainable params\n",
      "0         Non-trainable params\n",
      "195 M     Total params\n",
      "780.017   Total estimated model params size (MB)\n"
     ]
    },
    {
     "data": {
      "application/vnd.jupyter.widget-view+json": {
       "model_id": "4d1fdc34eefd454aba6169a89d89a613",
       "version_major": 2,
       "version_minor": 0
      },
      "text/plain": [
       "Validation sanity check: 0it [00:00, ?it/s]"
      ]
     },
     "metadata": {},
     "output_type": "display_data"
    },
    {
     "data": {
      "application/vnd.jupyter.widget-view+json": {
       "model_id": "ec67b98b7b34475fb8247af49f49bf10",
       "version_major": 2,
       "version_minor": 0
      },
      "text/plain": [
       "Training: 0it [00:00, ?it/s]"
      ]
     },
     "metadata": {},
     "output_type": "display_data"
    },
    {
     "data": {
      "application/vnd.jupyter.widget-view+json": {
       "model_id": "18cfe578c2d34e9aabcb9a00145ff3a5",
       "version_major": 2,
       "version_minor": 0
      },
      "text/plain": [
       "Validating: 0it [00:00, ?it/s]"
      ]
     },
     "metadata": {},
     "output_type": "display_data"
    },
    {
     "data": {
      "application/vnd.jupyter.widget-view+json": {
       "model_id": "6da729eef8d84291bf81a490006d22aa",
       "version_major": 2,
       "version_minor": 0
      },
      "text/plain": [
       "Validating: 0it [00:00, ?it/s]"
      ]
     },
     "metadata": {},
     "output_type": "display_data"
    },
    {
     "name": "stdout",
     "output_type": "stream",
     "text": [
      "Epoch 1 // train metric: 0.5399, valid metric: 0.7390\n"
     ]
    },
    {
     "data": {
      "application/vnd.jupyter.widget-view+json": {
       "model_id": "f7cfb81223544340b7995d140f2ee54f",
       "version_major": 2,
       "version_minor": 0
      },
      "text/plain": [
       "Validating: 0it [00:00, ?it/s]"
      ]
     },
     "metadata": {},
     "output_type": "display_data"
    },
    {
     "name": "stdout",
     "output_type": "stream",
     "text": [
      "Epoch 2 // train metric: 0.6233, valid metric: 0.7430\n"
     ]
    },
    {
     "data": {
      "application/vnd.jupyter.widget-view+json": {
       "model_id": "a73704798b4e442287fb71bf12458b5f",
       "version_major": 2,
       "version_minor": 0
      },
      "text/plain": [
       "Validating: 0it [00:00, ?it/s]"
      ]
     },
     "metadata": {},
     "output_type": "display_data"
    },
    {
     "name": "stdout",
     "output_type": "stream",
     "text": [
      "Epoch 3 // train metric: 0.6670, valid metric: 0.7525\n"
     ]
    },
    {
     "data": {
      "application/vnd.jupyter.widget-view+json": {
       "model_id": "9923d815556045209d999912cdb6abe5",
       "version_major": 2,
       "version_minor": 0
      },
      "text/plain": [
       "Validating: 0it [00:00, ?it/s]"
      ]
     },
     "metadata": {},
     "output_type": "display_data"
    },
    {
     "name": "stdout",
     "output_type": "stream",
     "text": [
      "Epoch 4 // train metric: 0.6962, valid metric: 0.7590\n"
     ]
    },
    {
     "data": {
      "application/vnd.jupyter.widget-view+json": {
       "model_id": "3d1db5fabf994caf9abb1a1eaedfabb1",
       "version_major": 2,
       "version_minor": 0
      },
      "text/plain": [
       "Validating: 0it [00:00, ?it/s]"
      ]
     },
     "metadata": {},
     "output_type": "display_data"
    },
    {
     "name": "stdout",
     "output_type": "stream",
     "text": [
      "Epoch 5 // train metric: 0.7181, valid metric: 0.7633\n"
     ]
    }
   ],
   "source": [
    "trainer.fit(model, dm)"
   ]
  },
  {
   "cell_type": "markdown",
   "id": "0260e10f",
   "metadata": {},
   "source": [
    "The model seems to be pretty decent. Let's see how this translates to the competition metric (RMSE) after postprocessing the outputs."
   ]
  },
  {
   "cell_type": "code",
   "execution_count": 25,
   "id": "eed9489d",
   "metadata": {},
   "outputs": [
    {
     "name": "stderr",
     "output_type": "stream",
     "text": [
      "Restoring states from the checkpoint path at /workspace/nbs/lightning_logs/version_122/checkpoints/epoch=5-step=737.ckpt\n",
      "LOCAL_RANK: 0 - CUDA_VISIBLE_DEVICES: [0,1]\n",
      "Loaded model weights from checkpoint at /workspace/nbs/lightning_logs/version_122/checkpoints/epoch=5-step=737.ckpt\n"
     ]
    },
    {
     "data": {
      "application/vnd.jupyter.widget-view+json": {
       "model_id": "efc03f0c2ffe464f8507a9e2815557f4",
       "version_major": 2,
       "version_minor": 0
      },
      "text/plain": [
       "Predicting: 123it [00:00, ?it/s]"
      ]
     },
     "metadata": {},
     "output_type": "display_data"
    }
   ],
   "source": [
    "import numpy as np \n",
    "\n",
    "outs = trainer.predict(model, dm.test_dataloader(), ckpt_path=\"best\")\n",
    "outs = np.vstack(outs)"
   ]
  },
  {
   "cell_type": "code",
   "execution_count": 30,
   "id": "c3af053b",
   "metadata": {},
   "outputs": [
    {
     "data": {
      "text/plain": [
       "array([45, 25, 75, ..., 35, 25, 45])"
      ]
     },
     "execution_count": 30,
     "metadata": {},
     "output_type": "execute_result"
    }
   ],
   "source": [
    "y_pred = ((outs > 0.5).sum(1) * 10) + 5\n",
    "y_pred"
   ]
  },
  {
   "cell_type": "code",
   "execution_count": 31,
   "id": "c8265eeb",
   "metadata": {},
   "outputs": [
    {
     "data": {
      "text/plain": [
       "array([63, 22, 53, ..., 34, 35, 20])"
      ]
     },
     "execution_count": 31,
     "metadata": {},
     "output_type": "execute_result"
    }
   ],
   "source": [
    "y_true = df[df.kfold==0].Pawpularity.values\n",
    "y_true"
   ]
  },
  {
   "cell_type": "code",
   "execution_count": 32,
   "id": "2d958586",
   "metadata": {},
   "outputs": [
    {
     "data": {
      "text/plain": [
       "17.761599882323292"
      ]
     },
     "execution_count": 32,
     "metadata": {},
     "output_type": "execute_result"
    }
   ],
   "source": [
    "from sklearn.metrics import mean_squared_error\n",
    "\n",
    "metric = mean_squared_error(y_pred, y_true, squared=False)\n",
    "metric"
   ]
  },
  {
   "cell_type": "code",
   "execution_count": 33,
   "id": "ed160da6",
   "metadata": {},
   "outputs": [
    {
     "data": {
      "text/plain": [
       "(25, 95)"
      ]
     },
     "execution_count": 33,
     "metadata": {},
     "output_type": "execute_result"
    }
   ],
   "source": [
    "y_pred.min(), y_pred.max()"
   ]
  },
  {
   "cell_type": "code",
   "execution_count": 38,
   "id": "91aa0370",
   "metadata": {},
   "outputs": [
    {
     "data": {
      "image/png": "[encoded data removed]",
      "text/plain": [
       "<Figure size 432x288 with 1 Axes>"
      ]
     },
     "metadata": {
      "needs_background": "light"
     },
     "output_type": "display_data"
    }
   ],
   "source": [
    "import matplotlib.pyplot as plt\n",
    "\n",
    "plt.hist(y_pred, bins=50);\n",
    "plt.hist(y_true, bins=50, alpha=.25);"
   ]
  },
  {
   "cell_type": "markdown",
   "id": "03e8822a",
   "metadata": {},
   "source": [
    "Despite the good RMSE, the model is currently over-estimating the number of samples with Pawpularity between 20-40."
   ]
  },
  {
   "cell_type": "code",
   "execution_count": 115,
   "id": "3caa2cee",
   "metadata": {},
   "outputs": [
    {
     "data": {
      "text/plain": [
       "Sequential(\n",
       "  (0): LazyLinear(in_features=0, out_features=128, bias=True)\n",
       "  (1): Dropout(p=0.1, inplace=False)\n",
       "  (2): Linear(in_features=128, out_features=64, bias=True)\n",
       ")"
      ]
     },
     "execution_count": 115,
     "metadata": {},
     "output_type": "execute_result"
    }
   ],
   "source": [
    "model = ImageClassifier(\n",
    "    in_channels=3,\n",
    "    num_classes=10,  # NOTE: 10 classes. All 0s is a class in itself\n",
    "    pretrained=cfg.pretrained,\n",
    "    cfg=cfg,\n",
    ")\n",
    "model.head = nn.Sequential(\n",
    "    nn.LazyLinear(128),\n",
    "    nn.Dropout(p=0.1),\n",
    "    nn.Linear(128, 64),\n",
    ")\n",
    "model.head"
   ]
  },
  {
   "cell_type": "code",
   "execution_count": 116,
   "id": "b7cbdf2c",
   "metadata": {},
   "outputs": [],
   "source": [
    "model.fc = nn.Linear(64, 1, bias=False)\n",
    "model.linear_1_bias = nn.Parameter(torch.zeros(9).float())"
   ]
  },
  {
   "cell_type": "code",
   "execution_count": 117,
   "id": "2384eaa3",
   "metadata": {},
   "outputs": [],
   "source": [
    "# credit: https://stackoverflow.com/a/28127947\n",
    "def new_forward(self, x):\n",
    "    x = self.backbone(x)\n",
    "    x = self.head(x)\n",
    "    \n",
    "    logits = self.fc(x) + self.linear_1_bias\n",
    "    return logits\n",
    "    \n",
    "model.forward = new_forward.__get__(model, ImageClassifier)"
   ]
  },
  {
   "cell_type": "code",
   "execution_count": 118,
   "id": "5663282e",
   "metadata": {},
   "outputs": [
    {
     "name": "stderr",
     "output_type": "stream",
     "text": [
      "Using bfloat16 Automatic Mixed Precision (AMP)\n",
      "GPU available: True, used: True\n",
      "TPU available: False, using: 0 TPU cores\n",
      "IPU available: False, using: 0 IPUs\n",
      "LOCAL_RANK: 0 - CUDA_VISIBLE_DEVICES: [0,1]\n",
      "\n",
      "  | Name         | Type            | Params\n",
      "-------------------------------------------------\n",
      "0 | backbone     | SwinTransformer | 194 M \n",
      "1 | head         | Sequential      | 8.3 K \n",
      "2 | train_metric | AUROC           | 0     \n",
      "3 | val_metric   | AUROC           | 0     \n",
      "4 | fc           | Linear          | 64    \n",
      "-------------------------------------------------\n",
      "195 M     Trainable params\n",
      "0         Non-trainable params\n",
      "195 M     Total params\n",
      "780.015   Total estimated model params size (MB)\n"
     ]
    },
    {
     "data": {
      "application/vnd.jupyter.widget-view+json": {
       "model_id": "2965a7190ac34d05878722dc84d881ff",
       "version_major": 2,
       "version_minor": 0
      },
      "text/plain": [
       "Validation sanity check: 0it [00:00, ?it/s]"
      ]
     },
     "metadata": {},
     "output_type": "display_data"
    },
    {
     "data": {
      "application/vnd.jupyter.widget-view+json": {
       "model_id": "a2017e4215bb471d9caa9bd3d555a612",
       "version_major": 2,
       "version_minor": 0
      },
      "text/plain": [
       "Training: 0it [00:00, ?it/s]"
      ]
     },
     "metadata": {},
     "output_type": "display_data"
    },
    {
     "data": {
      "application/vnd.jupyter.widget-view+json": {
       "model_id": "bcfe9bb7347d4781998344db0247b1fd",
       "version_major": 2,
       "version_minor": 0
      },
      "text/plain": [
       "Validating: 0it [00:00, ?it/s]"
      ]
     },
     "metadata": {},
     "output_type": "display_data"
    },
    {
     "data": {
      "application/vnd.jupyter.widget-view+json": {
       "model_id": "8311263b00d14c22ab480e51d4bc4b16",
       "version_major": 2,
       "version_minor": 0
      },
      "text/plain": [
       "Validating: 0it [00:00, ?it/s]"
      ]
     },
     "metadata": {},
     "output_type": "display_data"
    },
    {
     "name": "stdout",
     "output_type": "stream",
     "text": [
      "Epoch 1 // train metric: 0.6192, valid metric: 0.7600\n"
     ]
    },
    {
     "data": {
      "application/vnd.jupyter.widget-view+json": {
       "model_id": "7e5d6457001444d08d25bd1a7acb146f",
       "version_major": 2,
       "version_minor": 0
      },
      "text/plain": [
       "Validating: 0it [00:00, ?it/s]"
      ]
     },
     "metadata": {},
     "output_type": "display_data"
    },
    {
     "name": "stdout",
     "output_type": "stream",
     "text": [
      "Epoch 2 // train metric: 0.6819, valid metric: 0.7669\n"
     ]
    },
    {
     "data": {
      "application/vnd.jupyter.widget-view+json": {
       "model_id": "923ad600610d4233b091c3f30e9371b6",
       "version_major": 2,
       "version_minor": 0
      },
      "text/plain": [
       "Validating: 0it [00:00, ?it/s]"
      ]
     },
     "metadata": {},
     "output_type": "display_data"
    },
    {
     "name": "stdout",
     "output_type": "stream",
     "text": [
      "Epoch 3 // train metric: 0.7112, valid metric: 0.7708\n"
     ]
    },
    {
     "data": {
      "application/vnd.jupyter.widget-view+json": {
       "model_id": "bb024bf9da174f9da73ad2288e9b8a0b",
       "version_major": 2,
       "version_minor": 0
      },
      "text/plain": [
       "Validating: 0it [00:00, ?it/s]"
      ]
     },
     "metadata": {},
     "output_type": "display_data"
    },
    {
     "name": "stdout",
     "output_type": "stream",
     "text": [
      "Epoch 4 // train metric: 0.7320, valid metric: 0.7737\n"
     ]
    },
    {
     "data": {
      "application/vnd.jupyter.widget-view+json": {
       "model_id": "402d4b11fb3e4ce28cf595dcf9787187",
       "version_major": 2,
       "version_minor": 0
      },
      "text/plain": [
       "Validating: 0it [00:00, ?it/s]"
      ]
     },
     "metadata": {},
     "output_type": "display_data"
    },
    {
     "name": "stdout",
     "output_type": "stream",
     "text": [
      "Epoch 5 // train metric: 0.7502, valid metric: 0.7759\n"
     ]
    }
   ],
   "source": [
    "trainer = pl.Trainer(\n",
    "    gpus=1,\n",
    "    precision=cfg.precision,\n",
    "    auto_lr_find=cfg.auto_lr,\n",
    "    accumulate_grad_batches=cfg.accumulate_grad_batches,\n",
    "    auto_scale_batch_size=cfg.auto_batch_size,\n",
    "    max_epochs=cfg.epochs,\n",
    ")\n",
    "trainer.fit(model, dm)"
   ]
  },
  {
   "cell_type": "markdown",
   "id": "d4d205af",
   "metadata": {},
   "source": [
    "This is already a big improvement in AUROC! Let's see if it translates to a better RMSE."
   ]
  },
  {
   "cell_type": "code",
   "execution_count": 119,
   "id": "64c165a5",
   "metadata": {},
   "outputs": [
    {
     "name": "stderr",
     "output_type": "stream",
     "text": [
      "Restoring states from the checkpoint path at /workspace/nbs/lightning_logs/version_129/checkpoints/epoch=5-step=737.ckpt\n",
      "LOCAL_RANK: 0 - CUDA_VISIBLE_DEVICES: [0,1]\n",
      "Loaded model weights from checkpoint at /workspace/nbs/lightning_logs/version_129/checkpoints/epoch=5-step=737.ckpt\n"
     ]
    },
    {
     "data": {
      "application/vnd.jupyter.widget-view+json": {
       "model_id": "ae7f76e5a58b44e09a6f00cd1186af3e",
       "version_major": 2,
       "version_minor": 0
      },
      "text/plain": [
       "Predicting: 123it [00:00, ?it/s]"
      ]
     },
     "metadata": {},
     "output_type": "display_data"
    }
   ],
   "source": [
    "import numpy as np \n",
    "\n",
    "outs = trainer.predict(model, dm.test_dataloader(), ckpt_path=\"best\")\n",
    "outs = np.vstack(outs)"
   ]
  },
  {
   "cell_type": "code",
   "execution_count": 120,
   "id": "50e34ae0",
   "metadata": {},
   "outputs": [
    {
     "data": {
      "text/plain": [
       "array([ 5,  5, 95, ...,  5,  5,  5])"
      ]
     },
     "execution_count": 120,
     "metadata": {},
     "output_type": "execute_result"
    }
   ],
   "source": [
    "y_pred = ((outs > 0.5).sum(1) * 10) + 5\n",
    "y_pred"
   ]
  },
  {
   "cell_type": "code",
   "execution_count": 121,
   "id": "a2edd2db",
   "metadata": {},
   "outputs": [
    {
     "data": {
      "text/plain": [
       "array([63, 22, 53, ..., 34, 35, 20])"
      ]
     },
     "execution_count": 121,
     "metadata": {},
     "output_type": "execute_result"
    }
   ],
   "source": [
    "y_true = df[df.kfold==0].Pawpularity.values\n",
    "y_true"
   ]
  },
  {
   "cell_type": "code",
   "execution_count": 122,
   "id": "314e7878",
   "metadata": {},
   "outputs": [
    {
     "data": {
      "text/plain": [
       "35.45424578670089"
      ]
     },
     "execution_count": 122,
     "metadata": {},
     "output_type": "execute_result"
    }
   ],
   "source": [
    "from sklearn.metrics import mean_squared_error\n",
    "\n",
    "metric = mean_squared_error(y_pred, y_true, squared=False)\n",
    "metric"
   ]
  },
  {
   "cell_type": "code",
   "execution_count": 123,
   "id": "7f66876a",
   "metadata": {},
   "outputs": [
    {
     "data": {
      "text/plain": [
       "(5, 95)"
      ]
     },
     "execution_count": 123,
     "metadata": {},
     "output_type": "execute_result"
    }
   ],
   "source": [
    "y_pred.min(), y_pred.max()"
   ]
  },
  {
   "cell_type": "code",
   "execution_count": 124,
   "id": "8ca22d08",
   "metadata": {},
   "outputs": [
    {
     "data": {
      "image/png": "[encoded data removed]",
      "text/plain": [
       "<Figure size 432x288 with 1 Axes>"
      ]
     },
     "metadata": {
      "needs_background": "light"
     },
     "output_type": "display_data"
    }
   ],
   "source": [
    "import matplotlib.pyplot as plt\n",
    "\n",
    "plt.hist(y_pred, bins=50);\n",
    "plt.hist(y_true, bins=50, alpha=.25);"
   ]
  },
  {
   "cell_type": "code",
   "execution_count": null,
   "id": "25550e00",
   "metadata": {},
   "outputs": [],
   "source": []
  }
 ],
 "metadata": {
  "kernelspec": {
   "display_name": "Python 3 (ipykernel)",
   "language": "python",
   "name": "python3"
  },
  "language_info": {
   "codemirror_mode": {
    "name": "ipython",
    "version": 3
   },
   "file_extension": ".py",
   "mimetype": "text/x-python",
   "name": "python",
   "nbconvert_exporter": "python",
   "pygments_lexer": "ipython3",
   "version": "3.8.12"
  }
 },
 "nbformat": 4,
 "nbformat_minor": 5
}
