{
 "cells": [
  {
   "cell_type": "markdown",
   "metadata": {},
   "source": [
    "## Stacking"
   ]
  },
  {
   "cell_type": "code",
   "execution_count": 1,
   "metadata": {
    "_cell_guid": "b1076dfc-b9ad-4769-8c92-a6c4dae69d19",
    "_uuid": "8f2839f25d086af736a60e9eeb907d3b93b6e0e5",
    "papermill": {
     "duration": 1.225243,
     "end_time": "2020-08-18T18:42:51.021496",
     "exception": false,
     "start_time": "2020-08-18T18:42:49.796253",
     "status": "completed"
    },
    "tags": []
   },
   "outputs": [],
   "source": [
    "import pandas as pd, numpy as np, os\n",
    "from sklearn.metrics import mean_squared_error\n",
    "import matplotlib.pyplot as plt"
   ]
  },
  {
   "cell_type": "code",
   "execution_count": 24,
   "metadata": {
    "papermill": {
     "duration": 1.777005,
     "end_time": "2020-08-18T18:42:52.807224",
     "exception": false,
     "start_time": "2020-08-18T18:42:51.030219",
     "status": "completed"
    },
    "tags": []
   },
   "outputs": [
    {
     "name": "stdout",
     "output_type": "stream",
     "text": [
      "We have 4 OOF files...\n",
      "['model_four_extra_oof.npy' 'model_one_extra_oof.npy'\n",
      " 'model_three_extra_oof.npy' 'model_two_extra_oof.npy']\n"
     ]
    }
   ],
   "source": [
    "PATH = '../preds/'\n",
    "FILES = os.listdir(PATH)\n",
    "\n",
    "oof_files = np.sort( [f for f in FILES if 'oof' in f and 'extra' in f])\n",
    "oof_preds = [np.load(PATH + k) for k in oof_files]\n",
    "\n",
    "print(f'We have {len(oof_preds)} OOF files...')\n",
    "print(oof_files)"
   ]
  },
  {
   "cell_type": "markdown",
   "metadata": {},
   "source": [
    "## OOF predictions"
   ]
  },
  {
   "cell_type": "code",
   "execution_count": 25,
   "metadata": {},
   "outputs": [
    {
     "data": {
      "text/plain": [
       "(9875, 4)"
      ]
     },
     "execution_count": 25,
     "metadata": {},
     "output_type": "execute_result"
    }
   ],
   "source": [
    "x = np.vstack(oof_preds).T\n",
    "x.shape"
   ]
  },
  {
   "cell_type": "code",
   "execution_count": 26,
   "metadata": {},
   "outputs": [
    {
     "data": {
      "text/plain": [
       "array([[46.2890625 , 49.73144531, 45.5078125 , 42.578125  ],\n",
       "       [27.734375  , 26.80664062, 27.34375   , 27.734375  ],\n",
       "       [62.5       , 66.06445312, 61.71875   , 64.0625    ],\n",
       "       ...,\n",
       "       [30.46875   , 31.68945312, 30.2734375 , 30.078125  ],\n",
       "       [30.6640625 , 27.95410156, 28.7109375 , 29.4921875 ],\n",
       "       [45.1171875 , 41.91894531, 45.8984375 , 43.5546875 ]])"
      ]
     },
     "execution_count": 26,
     "metadata": {},
     "output_type": "execute_result"
    }
   ],
   "source": [
    "x"
   ]
  },
  {
   "cell_type": "markdown",
   "metadata": {},
   "source": [
    "## Statistical properties of OOF predictions"
   ]
  },
  {
   "cell_type": "code",
   "execution_count": 27,
   "metadata": {},
   "outputs": [],
   "source": [
    "preds_min = x.min(axis=1).reshape(-1, 1)\n",
    "preds_max = x.max(axis=1).reshape(-1, 1)\n",
    "preds_mean = x.mean(axis=1).reshape(-1, 1)\n",
    "preds_median = np.median(x, axis=1).reshape(-1, 1)\n",
    "preds_std = x.std(axis=1).reshape(-1, 1)\n",
    "from scipy.stats import skew\n",
    "preds_skew = skew(x, axis=1).reshape(-1, 1)\n",
    "\n",
    "\n",
    "x = np.concatenate([x, preds_min, preds_max, preds_mean, preds_median, preds_std, preds_skew], axis=1)"
   ]
  },
  {
   "cell_type": "code",
   "execution_count": 28,
   "metadata": {},
   "outputs": [
    {
     "data": {
      "text/plain": [
       "(9875, 10)"
      ]
     },
     "execution_count": 28,
     "metadata": {},
     "output_type": "execute_result"
    }
   ],
   "source": [
    "x.shape"
   ]
  },
  {
   "cell_type": "markdown",
   "metadata": {},
   "source": [
    "## Meta-data provided by organizers"
   ]
  },
  {
   "cell_type": "code",
   "execution_count": 29,
   "metadata": {},
   "outputs": [],
   "source": [
    "df = pd.read_csv('../data/train_5folds.csv')\n",
    "y_true = []\n",
    "other_feats = []\n",
    "for i in range(5):\n",
    "    y_true.extend(df[df.kfold == i].Pawpularity.values.tolist())\n",
    "    other_feats.extend(df[df.kfold == i][[\n",
    "        \"Subject Focus\", \"Eyes\", \"Face\", \"Near\", \"Action\", \"Accessory\", \"Group\", \"Collage\", \"Human\", \"Occlusion\", \"Info\", \"Blur\"\n",
    "    ]].values)\n",
    "y_true = np.array(y_true)\n",
    "x_feats = np.array(other_feats)"
   ]
  },
  {
   "cell_type": "code",
   "execution_count": 30,
   "metadata": {},
   "outputs": [
    {
     "data": {
      "text/plain": [
       "(9875, 12)"
      ]
     },
     "execution_count": 30,
     "metadata": {},
     "output_type": "execute_result"
    }
   ],
   "source": [
    "x_feats.shape"
   ]
  },
  {
   "cell_type": "code",
   "execution_count": 31,
   "metadata": {},
   "outputs": [
    {
     "data": {
      "text/plain": [
       "array([[0, 1, 1, ..., 0, 0, 0],\n",
       "       [0, 1, 1, ..., 1, 0, 0],\n",
       "       [0, 1, 1, ..., 0, 0, 0],\n",
       "       ...,\n",
       "       [0, 1, 1, ..., 0, 0, 0],\n",
       "       [0, 1, 1, ..., 1, 0, 0],\n",
       "       [0, 1, 1, ..., 0, 0, 0]])"
      ]
     },
     "execution_count": 31,
     "metadata": {},
     "output_type": "execute_result"
    }
   ],
   "source": [
    "x_feats"
   ]
  },
  {
   "cell_type": "code",
   "execution_count": 32,
   "metadata": {},
   "outputs": [
    {
     "data": {
      "text/plain": [
       "(9875, 22)"
      ]
     },
     "execution_count": 32,
     "metadata": {},
     "output_type": "execute_result"
    }
   ],
   "source": [
    "x = np.concatenate([x, x_feats], axis=1)\n",
    "x.shape"
   ]
  },
  {
   "cell_type": "markdown",
   "metadata": {},
   "source": [
    "## More image meta-data"
   ]
  },
  {
   "cell_type": "code",
   "execution_count": 33,
   "metadata": {},
   "outputs": [],
   "source": [
    "# from PIL import Image\n",
    "\n",
    "\n",
    "# img_feats = [] \n",
    "# for i in range(5):\n",
    "#     image_fpaths = [f'../data/train/{i}.jpg' for i in df[df.kfold == i].Id.tolist()]\n",
    "#     img_shape = np.array([np.array(Image.open(img).size) for img in image_fpaths])\n",
    "#     img_aspect_ratio = (img_shape[:, 0] / img_shape[:, 1]).reshape(-1, 1)\n",
    "#     img_mean = np.array([np.array(Image.open(img)).mean() for img in image_fpaths]).reshape(-1, 1)\n",
    "#     img_feats.extend(np.hstack([img_shape, img_aspect_ratio, img_mean]))\n",
    "\n",
    "# img_feats = np.array(img_feats)"
   ]
  },
  {
   "cell_type": "code",
   "execution_count": 34,
   "metadata": {},
   "outputs": [],
   "source": [
    "# img_feats"
   ]
  },
  {
   "cell_type": "code",
   "execution_count": 35,
   "metadata": {},
   "outputs": [],
   "source": [
    "# x = np.concatenate([x, img_feats], axis=1)\n",
    "# x.shape"
   ]
  },
  {
   "cell_type": "markdown",
   "metadata": {},
   "source": [
    "## Train meta-model"
   ]
  },
  {
   "cell_type": "code",
   "execution_count": 36,
   "metadata": {},
   "outputs": [],
   "source": [
    "from sklearn.linear_model import LassoCV"
   ]
  },
  {
   "cell_type": "code",
   "execution_count": 37,
   "metadata": {},
   "outputs": [],
   "source": [
    "lr = LassoCV(fit_intercept=True, normalize=True, cv=5, random_state=1010)"
   ]
  },
  {
   "cell_type": "code",
   "execution_count": 38,
   "metadata": {},
   "outputs": [
    {
     "data": {
      "text/plain": [
       "LassoCV(cv=5, normalize=True, random_state=1010)"
      ]
     },
     "execution_count": 38,
     "metadata": {},
     "output_type": "execute_result"
    }
   ],
   "source": [
    "lr.fit(X=x, y=y_true)"
   ]
  },
  {
   "cell_type": "code",
   "execution_count": 39,
   "metadata": {},
   "outputs": [
    {
     "data": {
      "text/plain": [
       "(0.003196425199405967,\n",
       " array([ 0.07028167,  0.6474719 ,  0.16458434,  0.        ,  0.        ,\n",
       "         0.        ,  0.        ,  0.17509676,  0.        , -0.        ,\n",
       "        -0.        ,  0.21162696,  0.        ,  0.        , -0.        ,\n",
       "        -0.        , -0.        ,  0.        ,  0.        ,  0.        ,\n",
       "        -0.        , -0.90937878]))"
      ]
     },
     "execution_count": 39,
     "metadata": {},
     "output_type": "execute_result"
    }
   ],
   "source": [
    "lr.alpha_, lr.coef_"
   ]
  },
  {
   "cell_type": "code",
   "execution_count": 40,
   "metadata": {},
   "outputs": [],
   "source": [
    "y_pred = lr.predict(X=x)"
   ]
  },
  {
   "cell_type": "code",
   "execution_count": 19,
   "metadata": {},
   "outputs": [
    {
     "data": {
      "text/plain": [
       "17.29402381421835"
      ]
     },
     "execution_count": 19,
     "metadata": {},
     "output_type": "execute_result"
    }
   ],
   "source": [
    "mean_squared_error(y_true, y_pred, squared=False)"
   ]
  },
  {
   "cell_type": "code",
   "execution_count": 20,
   "metadata": {
    "papermill": {
     "duration": 0.532698,
     "end_time": "2020-08-18T18:42:53.409697",
     "exception": false,
     "start_time": "2020-08-18T18:42:52.876999",
     "status": "completed"
    },
    "tags": []
   },
   "outputs": [
    {
     "name": "stdout",
     "output_type": "stream",
     "text": [
      "Model 0 has OOF RMSE = 17.5856\n",
      "Model 1 has OOF RMSE = 17.8464\n",
      "Model 2 has OOF RMSE = 17.3695\n",
      "Model 3 has OOF RMSE = 17.5400\n",
      "Model 4 has OOF RMSE = 17.5203\n",
      "Model 5 has OOF RMSE = 17.7900\n",
      "Model 6 has OOF RMSE = 17.5156\n",
      "Model 7 has OOF RMSE = 17.6844\n",
      "Model 8 has OOF RMSE = 17.8071\n",
      "Model 9 has OOF RMSE = 18.0992\n",
      "Model 10 has OOF RMSE = 17.4113\n",
      "Model 11 has OOF RMSE = 17.4124\n",
      "Model 12 has OOF RMSE = 41.1028\n",
      "Model 13 has OOF RMSE = 43.3820\n",
      "Model 14 has OOF RMSE = 43.2540\n",
      "Model 15 has OOF RMSE = 42.6031\n",
      "Model 16 has OOF RMSE = 42.4844\n",
      "Model 17 has OOF RMSE = 42.5227\n",
      "Model 18 has OOF RMSE = 43.2686\n",
      "Model 19 has OOF RMSE = 43.2167\n",
      "Model 20 has OOF RMSE = 43.1621\n",
      "Model 21 has OOF RMSE = 43.2344\n",
      "Model 22 has OOF RMSE = 43.1322\n",
      "Model 23 has OOF RMSE = 43.1276\n",
      "Model 24 has OOF RMSE = 43.2248\n",
      "Model 25 has OOF RMSE = 43.2187\n"
     ]
    }
   ],
   "source": [
    "all = []\n",
    "for k in range(x.shape[1]):\n",
    "    rmse = mean_squared_error(y_true, x[:, k], squared=False)\n",
    "    all.append(rmse)\n",
    "    print('Model %i has OOF RMSE = %.4f'%(k, rmse))\n",
    "    \n",
    "m = [np.argmin(all)]; w = []"
   ]
  },
  {
   "cell_type": "code",
   "execution_count": 21,
   "metadata": {},
   "outputs": [
    {
     "data": {
      "text/plain": [
       "2"
      ]
     },
     "execution_count": 21,
     "metadata": {},
     "output_type": "execute_result"
    }
   ],
   "source": [
    "np.argmin(all)"
   ]
  },
  {
   "cell_type": "code",
   "execution_count": 22,
   "metadata": {},
   "outputs": [],
   "source": [
    "import pickle\n",
    "s = pickle.dumps(lr)"
   ]
  },
  {
   "cell_type": "code",
   "execution_count": 23,
   "metadata": {},
   "outputs": [
    {
     "data": {
      "text/plain": [
       "array([ 0.11437708,  0.01340851,  0.70717551,  0.        ,  0.21885051,\n",
       "        0.        ,  0.        ,  0.        ,  0.00258076,  0.        ,\n",
       "        0.        ,  0.        ,  0.        , -0.        , -0.        ,\n",
       "        0.21417893,  0.        ,  0.        , -0.        , -0.        ,\n",
       "       -0.        ,  0.        ,  0.        ,  0.        , -0.        ,\n",
       "       -0.89852717])"
      ]
     },
     "execution_count": 23,
     "metadata": {},
     "output_type": "execute_result"
    }
   ],
   "source": [
    "clf2 = pickle.loads(s)\n",
    "clf2.coef_"
   ]
  }
 ],
 "metadata": {
  "kernelspec": {
   "display_name": "Python 3 (ipykernel)",
   "language": "python",
   "name": "python3"
  },
  "language_info": {
   "codemirror_mode": {
    "name": "ipython",
    "version": 3
   },
   "file_extension": ".py",
   "mimetype": "text/x-python",
   "name": "python",
   "nbconvert_exporter": "python",
   "pygments_lexer": "ipython3",
   "version": "3.8.12"
  },
  "papermill": {
   "duration": 116.576323,
   "end_time": "2020-08-18T18:44:40.923814",
   "environment_variables": {},
   "exception": null,
   "input_path": "__notebook__.ipynb",
   "output_path": "__notebook__.ipynb",
   "parameters": {},
   "start_time": "2020-08-18T18:42:44.347491",
   "version": "2.1.0"
  }
 },
 "nbformat": 4,
 "nbformat_minor": 4
}
