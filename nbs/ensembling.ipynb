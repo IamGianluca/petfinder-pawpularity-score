{
 "cells": [
  {
   "cell_type": "markdown",
   "metadata": {},
   "source": [
    "## Stacking"
   ]
  },
  {
   "cell_type": "code",
   "execution_count": 1,
   "metadata": {
    "_cell_guid": "b1076dfc-b9ad-4769-8c92-a6c4dae69d19",
    "_uuid": "8f2839f25d086af736a60e9eeb907d3b93b6e0e5",
    "papermill": {
     "duration": 1.225243,
     "end_time": "2020-08-18T18:42:51.021496",
     "exception": false,
     "start_time": "2020-08-18T18:42:49.796253",
     "status": "completed"
    },
    "tags": []
   },
   "outputs": [],
   "source": [
    "import pandas as pd, numpy as np, os\n",
    "from sklearn.metrics import mean_squared_error\n",
    "import matplotlib.pyplot as plt"
   ]
  },
  {
   "cell_type": "code",
   "execution_count": 2,
   "metadata": {
    "papermill": {
     "duration": 1.777005,
     "end_time": "2020-08-18T18:42:52.807224",
     "exception": false,
     "start_time": "2020-08-18T18:42:51.030219",
     "status": "completed"
    },
    "tags": []
   },
   "outputs": [
    {
     "name": "stdout",
     "output_type": "stream",
     "text": [
      "We have 7 OOF files...\n",
      "['model_four_extra_oof.npy' 'model_four_oof.npy' 'model_one_extra_oof.npy'\n",
      " 'model_one_oof.npy' 'model_three_oof.npy' 'model_two_extra_oof.npy'\n",
      " 'model_two_oof.npy']\n"
     ]
    }
   ],
   "source": [
    "PATH = '../preds/'\n",
    "FILES = os.listdir(PATH)\n",
    "\n",
    "oof_files = np.sort( [f for f in FILES if 'oof' in f] )\n",
    "oof_preds = [np.load(PATH + k) for k in oof_files]\n",
    "\n",
    "print(f'We have {len(oof_preds)} OOF files...')\n",
    "print(oof_files)"
   ]
  },
  {
   "cell_type": "code",
   "execution_count": 3,
   "metadata": {},
   "outputs": [
    {
     "data": {
      "text/plain": [
       "(9875, 7)"
      ]
     },
     "execution_count": 3,
     "metadata": {},
     "output_type": "execute_result"
    }
   ],
   "source": [
    "x = np.vstack(oof_preds).T\n",
    "x.shape"
   ]
  },
  {
   "cell_type": "code",
   "execution_count": 4,
   "metadata": {},
   "outputs": [
    {
     "data": {
      "text/plain": [
       "array([[46.484375  , 34.5703125 , 48.6328125 , ..., 44.140625  ,\n",
       "        42.96875   , 47.0703125 ],\n",
       "       [28.90625   , 26.953125  , 27.27050781, ..., 25.1953125 ,\n",
       "        29.1015625 , 26.171875  ],\n",
       "       [63.28125   , 66.796875  , 65.234375  , ..., 59.765625  ,\n",
       "        64.0625    , 60.9375    ],\n",
       "       ...,\n",
       "       [31.25      , 33.203125  , 31.71386719, ..., 33.3984375 ,\n",
       "        30.859375  , 29.8828125 ],\n",
       "       [31.25      , 33.984375  , 29.00390625, ..., 28.7109375 ,\n",
       "        30.2734375 , 29.8828125 ],\n",
       "       [46.6796875 , 53.515625  , 42.91992188, ..., 38.4765625 ,\n",
       "        44.7265625 , 35.9375    ]])"
      ]
     },
     "execution_count": 4,
     "metadata": {},
     "output_type": "execute_result"
    }
   ],
   "source": [
    "x"
   ]
  },
  {
   "cell_type": "code",
   "execution_count": 5,
   "metadata": {},
   "outputs": [],
   "source": [
    "df = pd.read_csv('../data/train_5folds.csv')\n",
    "y_true = []\n",
    "other_feats = []\n",
    "for i in range(5):\n",
    "    y_true.extend(df[df.kfold == i].Pawpularity.values.tolist())\n",
    "    other_feats.extend(df[df.kfold == i][[\n",
    "        \"Subject Focus\", \"Eyes\", \"Face\", \"Near\", \"Action\", \"Accessory\", \"Group\", \"Collage\", \"Human\", \"Occlusion\", \"Info\", \"Blur\"\n",
    "    ]].values)\n",
    "y_true = np.array(y_true)\n",
    "x_feats = np.array(other_feats)"
   ]
  },
  {
   "cell_type": "code",
   "execution_count": 6,
   "metadata": {},
   "outputs": [
    {
     "data": {
      "text/plain": [
       "(9875, 12)"
      ]
     },
     "execution_count": 6,
     "metadata": {},
     "output_type": "execute_result"
    }
   ],
   "source": [
    "x_feats.shape"
   ]
  },
  {
   "cell_type": "code",
   "execution_count": 7,
   "metadata": {},
   "outputs": [
    {
     "data": {
      "text/plain": [
       "array([[0, 1, 1, ..., 0, 0, 0],\n",
       "       [0, 1, 1, ..., 1, 0, 0],\n",
       "       [0, 1, 1, ..., 0, 0, 0],\n",
       "       ...,\n",
       "       [0, 1, 1, ..., 0, 0, 0],\n",
       "       [0, 1, 1, ..., 1, 0, 0],\n",
       "       [0, 1, 1, ..., 0, 0, 0]])"
      ]
     },
     "execution_count": 7,
     "metadata": {},
     "output_type": "execute_result"
    }
   ],
   "source": [
    "x_feats"
   ]
  },
  {
   "cell_type": "code",
   "execution_count": 8,
   "metadata": {},
   "outputs": [],
   "source": [
    "x = np.concatenate([x, x_feats], axis=1)"
   ]
  },
  {
   "cell_type": "code",
   "execution_count": 9,
   "metadata": {},
   "outputs": [],
   "source": [
    "from sklearn.linear_model import LassoCV"
   ]
  },
  {
   "cell_type": "code",
   "execution_count": 10,
   "metadata": {},
   "outputs": [],
   "source": [
    "lr = LassoCV(fit_intercept=True, normalize=True, cv=5, random_state=1010)"
   ]
  },
  {
   "cell_type": "code",
   "execution_count": 11,
   "metadata": {},
   "outputs": [
    {
     "data": {
      "text/plain": [
       "LassoCV(cv=5, normalize=True, random_state=1010)"
      ]
     },
     "execution_count": 11,
     "metadata": {},
     "output_type": "execute_result"
    }
   ],
   "source": [
    "lr.fit(X=x, y=y_true)"
   ]
  },
  {
   "cell_type": "code",
   "execution_count": 12,
   "metadata": {},
   "outputs": [
    {
     "data": {
      "text/plain": [
       "(0.003197738558156792,\n",
       " array([ 0.24601791,  0.        ,  0.77225827,  0.03290889,  0.01687018,\n",
       "         0.00907935,  0.        , -0.        ,  0.22275635,  0.        ,\n",
       "         0.        , -0.        , -0.        ,  0.        ,  0.        ,\n",
       "         0.        ,  0.        ,  0.        , -0.85592442]))"
      ]
     },
     "execution_count": 12,
     "metadata": {},
     "output_type": "execute_result"
    }
   ],
   "source": [
    "lr.alpha_, lr.coef_"
   ]
  },
  {
   "cell_type": "code",
   "execution_count": 13,
   "metadata": {},
   "outputs": [],
   "source": [
    "y_pred = lr.predict(X=x)"
   ]
  },
  {
   "cell_type": "code",
   "execution_count": 14,
   "metadata": {},
   "outputs": [
    {
     "data": {
      "text/plain": [
       "17.29643758677153"
      ]
     },
     "execution_count": 14,
     "metadata": {},
     "output_type": "execute_result"
    }
   ],
   "source": [
    "mean_squared_error(y_true, y_pred, squared=False)"
   ]
  },
  {
   "cell_type": "code",
   "execution_count": 15,
   "metadata": {
    "papermill": {
     "duration": 0.532698,
     "end_time": "2020-08-18T18:42:53.409697",
     "exception": false,
     "start_time": "2020-08-18T18:42:52.876999",
     "status": "completed"
    },
    "tags": []
   },
   "outputs": [
    {
     "name": "stdout",
     "output_type": "stream",
     "text": [
      "Model 0 has OOF RMSE = 17.6440\n",
      "Model 1 has OOF RMSE = 17.8464\n",
      "Model 2 has OOF RMSE = 17.3966\n",
      "Model 3 has OOF RMSE = 17.5400\n",
      "Model 4 has OOF RMSE = 17.7900\n",
      "Model 5 has OOF RMSE = 17.5590\n",
      "Model 6 has OOF RMSE = 17.6844\n",
      "Model 7 has OOF RMSE = 43.2540\n",
      "Model 8 has OOF RMSE = 42.6031\n",
      "Model 9 has OOF RMSE = 42.4844\n",
      "Model 10 has OOF RMSE = 42.5227\n",
      "Model 11 has OOF RMSE = 43.2686\n",
      "Model 12 has OOF RMSE = 43.2167\n",
      "Model 13 has OOF RMSE = 43.1621\n",
      "Model 14 has OOF RMSE = 43.2344\n",
      "Model 15 has OOF RMSE = 43.1322\n",
      "Model 16 has OOF RMSE = 43.1276\n",
      "Model 17 has OOF RMSE = 43.2248\n",
      "Model 18 has OOF RMSE = 43.2187\n"
     ]
    }
   ],
   "source": [
    "all = []\n",
    "for k in range(x.shape[1]):\n",
    "    rmse = mean_squared_error(y_true, x[:, k], squared=False)\n",
    "    all.append(rmse)\n",
    "    print('Model %i has OOF RMSE = %.4f'%(k, rmse))\n",
    "    \n",
    "m = [np.argmin(all)]; w = []"
   ]
  },
  {
   "cell_type": "code",
   "execution_count": 16,
   "metadata": {},
   "outputs": [
    {
     "data": {
      "text/plain": [
       "2"
      ]
     },
     "execution_count": 16,
     "metadata": {},
     "output_type": "execute_result"
    }
   ],
   "source": [
    "np.argmin(all)"
   ]
  },
  {
   "cell_type": "code",
   "execution_count": 17,
   "metadata": {},
   "outputs": [],
   "source": [
    "import pickle\n",
    "s = pickle.dumps(lr)"
   ]
  },
  {
   "cell_type": "code",
   "execution_count": 18,
   "metadata": {},
   "outputs": [
    {
     "data": {
      "text/plain": [
       "array([ 0.24601791,  0.        ,  0.77225827,  0.03290889,  0.01687018,\n",
       "        0.00907935,  0.        , -0.        ,  0.22275635,  0.        ,\n",
       "        0.        , -0.        , -0.        ,  0.        ,  0.        ,\n",
       "        0.        ,  0.        ,  0.        , -0.85592442])"
      ]
     },
     "execution_count": 18,
     "metadata": {},
     "output_type": "execute_result"
    }
   ],
   "source": [
    "clf2 = pickle.loads(s)\n",
    "clf2.coef_"
   ]
  }
 ],
 "metadata": {
  "kernelspec": {
   "display_name": "Python 3 (ipykernel)",
   "language": "python",
   "name": "python3"
  },
  "language_info": {
   "codemirror_mode": {
    "name": "ipython",
    "version": 3
   },
   "file_extension": ".py",
   "mimetype": "text/x-python",
   "name": "python",
   "nbconvert_exporter": "python",
   "pygments_lexer": "ipython3",
   "version": "3.8.12"
  },
  "papermill": {
   "duration": 116.576323,
   "end_time": "2020-08-18T18:44:40.923814",
   "environment_variables": {},
   "exception": null,
   "input_path": "__notebook__.ipynb",
   "output_path": "__notebook__.ipynb",
   "parameters": {},
   "start_time": "2020-08-18T18:42:44.347491",
   "version": "2.1.0"
  }
 },
 "nbformat": 4,
 "nbformat_minor": 4
}
