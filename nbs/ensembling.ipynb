{
 "cells": [
  {
   "cell_type": "markdown",
   "metadata": {},
   "source": [
    "## Stacking"
   ]
  },
  {
   "cell_type": "code",
   "execution_count": 1,
   "metadata": {
    "_cell_guid": "b1076dfc-b9ad-4769-8c92-a6c4dae69d19",
    "_uuid": "8f2839f25d086af736a60e9eeb907d3b93b6e0e5",
    "papermill": {
     "duration": 1.225243,
     "end_time": "2020-08-18T18:42:51.021496",
     "exception": false,
     "start_time": "2020-08-18T18:42:49.796253",
     "status": "completed"
    },
    "tags": []
   },
   "outputs": [],
   "source": [
    "import pandas as pd, numpy as np, os\n",
    "from sklearn.metrics import mean_squared_error\n",
    "import matplotlib.pyplot as plt"
   ]
  },
  {
   "cell_type": "code",
   "execution_count": 2,
   "metadata": {
    "papermill": {
     "duration": 1.777005,
     "end_time": "2020-08-18T18:42:52.807224",
     "exception": false,
     "start_time": "2020-08-18T18:42:51.030219",
     "status": "completed"
    },
    "tags": []
   },
   "outputs": [
    {
     "name": "stdout",
     "output_type": "stream",
     "text": [
      "We have 4 OOF files...\n",
      "['model_four_extra2_oof.npy' 'model_one_extra2_oof.npy'\n",
      " 'model_three_extra2_oof.npy' 'model_two_extra2_oof.npy']\n"
     ]
    }
   ],
   "source": [
    "PATH = '../preds/'\n",
    "FILES = os.listdir(PATH)\n",
    "\n",
    "oof_files = np.sort([f for f in FILES if 'oof' in f and 'extra2' in f and 'five' not in f])\n",
    "oof_preds = [np.load(PATH + k) for k in oof_files]\n",
    "\n",
    "print(f'We have {len(oof_preds)} OOF files...')\n",
    "print(oof_files)"
   ]
  },
  {
   "cell_type": "markdown",
   "metadata": {},
   "source": [
    "## OOF predictions"
   ]
  },
  {
   "cell_type": "code",
   "execution_count": 3,
   "metadata": {},
   "outputs": [
    {
     "data": {
      "text/plain": [
       "(9875, 4)"
      ]
     },
     "execution_count": 3,
     "metadata": {},
     "output_type": "execute_result"
    }
   ],
   "source": [
    "x = np.vstack(oof_preds).T\n",
    "x.shape"
   ]
  },
  {
   "cell_type": "code",
   "execution_count": 4,
   "metadata": {},
   "outputs": [
    {
     "data": {
      "text/plain": [
       "array([[45.3125    , 47.8515625 , 48.4375    , 47.65625   ],\n",
       "       [25.78125   , 26.5625    , 23.33984375, 25.390625  ],\n",
       "       [58.984375  , 62.109375  , 60.9375    , 61.71875   ],\n",
       "       ...,\n",
       "       [28.125     , 26.7578125 , 27.1484375 , 28.515625  ],\n",
       "       [27.1484375 , 26.171875  , 26.3671875 , 27.1484375 ],\n",
       "       [38.671875  , 35.3515625 , 37.890625  , 38.8671875 ]])"
      ]
     },
     "execution_count": 4,
     "metadata": {},
     "output_type": "execute_result"
    }
   ],
   "source": [
    "x"
   ]
  },
  {
   "cell_type": "markdown",
   "metadata": {},
   "source": [
    "## Statistical properties of OOF predictions"
   ]
  },
  {
   "cell_type": "code",
   "execution_count": 5,
   "metadata": {},
   "outputs": [],
   "source": [
    "preds_min = x.min(axis=1).reshape(-1, 1)\n",
    "preds_max = x.max(axis=1).reshape(-1, 1)\n",
    "preds_range = preds_max - preds_min\n",
    "preds_mean = x.mean(axis=1).reshape(-1, 1)\n",
    "preds_median = np.median(x, axis=1).reshape(-1, 1)\n",
    "preds_std = x.std(axis=1).reshape(-1, 1)\n",
    "from scipy.stats import skew\n",
    "preds_skew = skew(x, axis=1).reshape(-1, 1)\n",
    "\n",
    "\n",
    "x = np.concatenate([x, preds_min, preds_max, preds_range, preds_mean, preds_median, preds_std, preds_skew], axis=1)"
   ]
  },
  {
   "cell_type": "code",
   "execution_count": 6,
   "metadata": {},
   "outputs": [
    {
     "data": {
      "text/plain": [
       "(9875, 11)"
      ]
     },
     "execution_count": 6,
     "metadata": {},
     "output_type": "execute_result"
    }
   ],
   "source": [
    "x.shape"
   ]
  },
  {
   "cell_type": "markdown",
   "metadata": {},
   "source": [
    "## Under 20"
   ]
  },
  {
   "cell_type": "code",
   "execution_count": 7,
   "metadata": {},
   "outputs": [
    {
     "data": {
      "text/plain": [
       "(9875, 12)"
      ]
     },
     "execution_count": 7,
     "metadata": {},
     "output_type": "execute_result"
    }
   ],
   "source": [
    "under_20 = np.load(\"../preds/model_five_oof.npy\").reshape(-1, 1)\n",
    "under_20 = np.where(under_20 > 0.4, 1, 0)\n",
    "x = np.concatenate([x, under_20], axis=1)\n",
    "x.shape"
   ]
  },
  {
   "cell_type": "code",
   "execution_count": 68,
   "metadata": {},
   "outputs": [
    {
     "data": {
      "text/plain": [
       "208"
      ]
     },
     "execution_count": 68,
     "metadata": {},
     "output_type": "execute_result"
    }
   ],
   "source": [
    "yup = y_true.reshape(-1, 1)[np.where(under_20 > 0.3, True, False)]\n",
    "(yup < 20).sum() #/ yup.shape[0]"
   ]
  },
  {
   "cell_type": "code",
   "execution_count": 56,
   "metadata": {},
   "outputs": [
    {
     "data": {
      "text/plain": [
       "array([[False],\n",
       "       [False],\n",
       "       [False],\n",
       "       ...,\n",
       "       [ True],\n",
       "       [False],\n",
       "       [False]])"
      ]
     },
     "execution_count": 56,
     "metadata": {},
     "output_type": "execute_result"
    }
   ],
   "source": [
    "np.where(under_20 > 0.3, True, False)"
   ]
  },
  {
   "cell_type": "code",
   "execution_count": 50,
   "metadata": {},
   "outputs": [
    {
     "data": {
      "text/plain": [
       "0"
      ]
     },
     "execution_count": 50,
     "metadata": {},
     "output_type": "execute_result"
    }
   ],
   "source": [
    "(y_true[np.where(under_20 > 0.3, 1, 0)] < 20).sum()"
   ]
  },
  {
   "cell_type": "markdown",
   "metadata": {},
   "source": [
    "## Meta-data provided by organizers"
   ]
  },
  {
   "cell_type": "code",
   "execution_count": 12,
   "metadata": {},
   "outputs": [],
   "source": [
    "df = pd.read_csv('../data/train_folds.csv')\n",
    "y_true = []\n",
    "other_feats = []\n",
    "for i in range(5):\n",
    "    y_true.extend(df[df.kfold == i].Pawpularity.values.tolist())\n",
    "    other_feats.extend(df[df.kfold == i][[\n",
    "        \"Subject Focus\", \"Eyes\", \"Face\", \"Near\", \"Action\", \"Accessory\", \"Group\", \"Collage\", \"Human\", \"Occlusion\", \"Info\", \"Blur\"\n",
    "    ]].values)\n",
    "y_true = np.array(y_true)\n",
    "x_feats = np.array(other_feats)"
   ]
  },
  {
   "cell_type": "code",
   "execution_count": 13,
   "metadata": {},
   "outputs": [
    {
     "data": {
      "text/plain": [
       "(9875, 12)"
      ]
     },
     "execution_count": 13,
     "metadata": {},
     "output_type": "execute_result"
    }
   ],
   "source": [
    "x_feats.shape"
   ]
  },
  {
   "cell_type": "code",
   "execution_count": 14,
   "metadata": {},
   "outputs": [
    {
     "data": {
      "text/plain": [
       "array([[0, 1, 1, ..., 0, 0, 0],\n",
       "       [0, 1, 1, ..., 1, 0, 0],\n",
       "       [0, 1, 1, ..., 0, 0, 0],\n",
       "       ...,\n",
       "       [0, 1, 1, ..., 0, 0, 0],\n",
       "       [0, 1, 1, ..., 1, 0, 0],\n",
       "       [0, 1, 1, ..., 0, 0, 0]])"
      ]
     },
     "execution_count": 14,
     "metadata": {},
     "output_type": "execute_result"
    }
   ],
   "source": [
    "x_feats"
   ]
  },
  {
   "cell_type": "code",
   "execution_count": 15,
   "metadata": {},
   "outputs": [
    {
     "data": {
      "text/plain": [
       "(9875, 24)"
      ]
     },
     "execution_count": 15,
     "metadata": {},
     "output_type": "execute_result"
    }
   ],
   "source": [
    "x = np.concatenate([x, x_feats], axis=1)\n",
    "x.shape"
   ]
  },
  {
   "cell_type": "markdown",
   "metadata": {},
   "source": [
    "## More image meta-data"
   ]
  },
  {
   "cell_type": "code",
   "execution_count": 16,
   "metadata": {},
   "outputs": [],
   "source": [
    "# from PIL import Image\n",
    "\n",
    "\n",
    "# img_feats = [] \n",
    "# for i in range(5):\n",
    "#     image_fpaths = [f'../data/train/{i}.jpg' for i in df[df.kfold == i].Id.tolist()]\n",
    "#     img_shape = np.array([np.array(Image.open(img).size) for img in image_fpaths])\n",
    "#     img_aspect_ratio = (img_shape[:, 0] / img_shape[:, 1]).reshape(-1, 1)\n",
    "#     img_mean = np.array([np.array(Image.open(img)).mean() for img in image_fpaths]).reshape(-1, 1)\n",
    "#     img_feats.extend(np.hstack([img_shape, img_aspect_ratio, img_mean]))\n",
    "\n",
    "# img_feats = np.array(img_feats)"
   ]
  },
  {
   "cell_type": "code",
   "execution_count": 17,
   "metadata": {},
   "outputs": [],
   "source": [
    "# img_feats"
   ]
  },
  {
   "cell_type": "code",
   "execution_count": 18,
   "metadata": {},
   "outputs": [],
   "source": [
    "# x = np.concatenate([x, img_feats], axis=1)\n",
    "# x.shape"
   ]
  },
  {
   "cell_type": "markdown",
   "metadata": {},
   "source": [
    "## Set up Cross Validation"
   ]
  },
  {
   "cell_type": "code",
   "execution_count": 19,
   "metadata": {},
   "outputs": [],
   "source": [
    "from sklearn.model_selection import PredefinedSplit\n",
    "\n",
    "cv = PredefinedSplit(df.kfold)"
   ]
  },
  {
   "cell_type": "markdown",
   "metadata": {},
   "source": [
    "## Train meta-model"
   ]
  },
  {
   "cell_type": "markdown",
   "metadata": {},
   "source": [
    "#### GradientBoostingRegressor"
   ]
  },
  {
   "cell_type": "code",
   "execution_count": 20,
   "metadata": {},
   "outputs": [],
   "source": [
    "from sklearn.model_selection import GridSearchCV\n",
    "from sklearn.ensemble import GradientBoostingRegressor\n",
    "\n",
    "reg = GradientBoostingRegressor()\n",
    "parameters = {\n",
    "    'n_estimators': [100, 300, 500],\n",
    "    'learning_rate':[0.01, 0.01, 0.1, 1],\n",
    "    'max_depth':[3, 5, 7],\n",
    "    'max_features': [\"auto\", \"sqrt\", \"log2\"]\n",
    "}\n",
    "clf = GridSearchCV(reg, parameters, n_jobs=-1, cv=cv, scoring='neg_root_mean_squared_error')\n",
    "grid = clf.fit(x, y_true)"
   ]
  },
  {
   "cell_type": "code",
   "execution_count": 21,
   "metadata": {},
   "outputs": [
    {
     "data": {
      "text/plain": [
       "{'learning_rate': 0.01,\n",
       " 'max_depth': 3,\n",
       " 'max_features': 'log2',\n",
       " 'n_estimators': 300}"
      ]
     },
     "execution_count": 21,
     "metadata": {},
     "output_type": "execute_result"
    }
   ],
   "source": [
    "grid.best_params_"
   ]
  },
  {
   "cell_type": "code",
   "execution_count": 22,
   "metadata": {},
   "outputs": [],
   "source": [
    "from sklearn.linear_model import Lasso\n",
    "from sklearn.svm import SVR\n",
    "from sklearn.ensemble import RandomForestRegressor\n",
    "from sklearn.ensemble import AdaBoostRegressor\n",
    " \n",
    "y_pred = []\n",
    "y_real = []\n",
    "\n",
    "for train_idx, val_idx in cv.split():\n",
    "    x_train, y_train = x[train_idx, :], y_true[train_idx]\n",
    "    \n",
    "    lr = GradientBoostingRegressor(**grid.best_params_)\n",
    "    lr.fit(X=x_train, y=y_train)\n",
    "    \n",
    "    x_val = x[val_idx, :]\n",
    "    preds = lr.predict(x_val)\n",
    "    \n",
    "    y_pred.extend(preds)\n",
    "    y_real.extend(y_true[val_idx])"
   ]
  },
  {
   "cell_type": "code",
   "execution_count": 23,
   "metadata": {},
   "outputs": [
    {
     "data": {
      "text/plain": [
       "(23.291549370422885, 83.52245880365601)"
      ]
     },
     "execution_count": 23,
     "metadata": {},
     "output_type": "execute_result"
    }
   ],
   "source": [
    "np.min(y_pred), np.max(y_pred)"
   ]
  },
  {
   "cell_type": "code",
   "execution_count": 24,
   "metadata": {},
   "outputs": [
    {
     "data": {
      "text/plain": [
       "17.173653590224564"
      ]
     },
     "execution_count": 24,
     "metadata": {},
     "output_type": "execute_result"
    }
   ],
   "source": [
    "mean_squared_error(y_real, np.clip(y_pred, a_min=0, a_max=100), squared=False)"
   ]
  },
  {
   "cell_type": "code",
   "execution_count": 25,
   "metadata": {},
   "outputs": [
    {
     "data": {
      "image/png": "[encoded data removed]",
      "text/plain": [
       "<Figure size 432x288 with 1 Axes>"
      ]
     },
     "metadata": {
      "needs_background": "light"
     },
     "output_type": "display_data"
    }
   ],
   "source": [
    "plt.hist(y_pred, bins=50, label='predictions');\n",
    "plt.hist(y_real, bins=50, alpha=.25, label='pawpularity');\n",
    "plt.legend();"
   ]
  },
  {
   "cell_type": "markdown",
   "metadata": {},
   "source": [
    "#### RandomForest"
   ]
  },
  {
   "cell_type": "code",
   "execution_count": 26,
   "metadata": {},
   "outputs": [],
   "source": [
    "reg = RandomForestRegressor()\n",
    "parameters = {\n",
    "    'n_estimators': [100, 300, 500],\n",
    "    'max_depth':[3, 5, 7],\n",
    "    'max_features': [\"auto\", \"sqrt\", \"log2\"]\n",
    "}\n",
    "clf = GridSearchCV(reg, parameters, n_jobs=-1, cv=cv, scoring='neg_root_mean_squared_error')\n",
    "grid = clf.fit(x, y_true)"
   ]
  },
  {
   "cell_type": "code",
   "execution_count": 27,
   "metadata": {},
   "outputs": [
    {
     "data": {
      "text/plain": [
       "{'max_depth': 5, 'max_features': 'sqrt', 'n_estimators': 100}"
      ]
     },
     "execution_count": 27,
     "metadata": {},
     "output_type": "execute_result"
    }
   ],
   "source": [
    "grid.best_params_"
   ]
  },
  {
   "cell_type": "code",
   "execution_count": 28,
   "metadata": {},
   "outputs": [],
   "source": [
    "from sklearn.linear_model import Lasso\n",
    "from sklearn.svm import SVR\n",
    "from sklearn.ensemble import RandomForestRegressor\n",
    "from sklearn.ensemble import GradientBoostingRegressor\n",
    "from sklearn.ensemble import AdaBoostRegressor\n",
    " \n",
    "y_pred = []\n",
    "y_real = []\n",
    "\n",
    "for train_idx, val_idx in cv.split():\n",
    "    x_train, y_train = x[train_idx, :], y_true[train_idx]\n",
    "    \n",
    "    lr = RandomForestRegressor(**grid.best_params_)\n",
    "    lr.fit(X=x_train, y=y_train)\n",
    "    \n",
    "    x_val = x[val_idx, :]\n",
    "    preds = lr.predict(x_val)\n",
    "    \n",
    "    y_pred.extend(preds)\n",
    "    y_real.extend(y_true[val_idx])"
   ]
  },
  {
   "cell_type": "code",
   "execution_count": 29,
   "metadata": {},
   "outputs": [
    {
     "data": {
      "text/plain": [
       "(22.422293012640644, 82.45152101192336)"
      ]
     },
     "execution_count": 29,
     "metadata": {},
     "output_type": "execute_result"
    }
   ],
   "source": [
    "np.min(y_pred), np.max(y_pred)"
   ]
  },
  {
   "cell_type": "code",
   "execution_count": 30,
   "metadata": {},
   "outputs": [
    {
     "data": {
      "text/plain": [
       "17.163700284941918"
      ]
     },
     "execution_count": 30,
     "metadata": {},
     "output_type": "execute_result"
    }
   ],
   "source": [
    "mean_squared_error(y_real, np.clip(y_pred, a_min=0, a_max=100), squared=False)"
   ]
  },
  {
   "cell_type": "code",
   "execution_count": 31,
   "metadata": {},
   "outputs": [
    {
     "data": {
      "image/png": "[encoded data removed]",
      "text/plain": [
       "<Figure size 432x288 with 1 Axes>"
      ]
     },
     "metadata": {
      "needs_background": "light"
     },
     "output_type": "display_data"
    }
   ],
   "source": [
    "plt.hist(y_pred, bins=50, label='predictions');\n",
    "plt.hist(y_real, bins=50, alpha=.25, label='pawpularity');\n",
    "plt.legend();"
   ]
  },
  {
   "cell_type": "markdown",
   "metadata": {},
   "source": [
    "#### Lasso"
   ]
  },
  {
   "cell_type": "code",
   "execution_count": 32,
   "metadata": {},
   "outputs": [],
   "source": [
    "from sklearn.linear_model import LassoCV"
   ]
  },
  {
   "cell_type": "code",
   "execution_count": 33,
   "metadata": {},
   "outputs": [],
   "source": [
    "lr = LassoCV(fit_intercept=True, normalize=True, cv=cv, random_state=1010)"
   ]
  },
  {
   "cell_type": "code",
   "execution_count": 34,
   "metadata": {},
   "outputs": [
    {
     "data": {
      "text/plain": [
       "LassoCV(cv=PredefinedSplit(test_fold=array([0, 2, ..., 1, 4])), normalize=True,\n",
       "        random_state=1010)"
      ]
     },
     "execution_count": 34,
     "metadata": {},
     "output_type": "execute_result"
    }
   ],
   "source": [
    "lr.fit(X=x, y=y_true)"
   ]
  },
  {
   "cell_type": "code",
   "execution_count": 41,
   "metadata": {},
   "outputs": [
    {
     "data": {
      "text/plain": [
       "(0.0018669279409013054,\n",
       " array([ 0.08810213,  0.38833068,  0.24061249,  0.        ,  0.13401663,\n",
       "         0.        ,  0.        ,  0.12718641,  0.04505743,  0.        ,\n",
       "        -0.        , -4.00383185, -0.        ,  0.25914884,  0.        ,\n",
       "         0.5672964 , -0.        , -0.        , -0.16602175,  0.        ,\n",
       "         0.        ,  0.        , -0.        , -1.43496799]))"
      ]
     },
     "execution_count": 41,
     "metadata": {},
     "output_type": "execute_result"
    }
   ],
   "source": [
    "lr.alpha_, lr.coef_"
   ]
  },
  {
   "cell_type": "code",
   "execution_count": 36,
   "metadata": {},
   "outputs": [],
   "source": [
    "y_pred = np.clip(lr.predict(X=x), a_min=0, a_max=100)"
   ]
  },
  {
   "cell_type": "code",
   "execution_count": 37,
   "metadata": {},
   "outputs": [
    {
     "data": {
      "image/png": "[encoded data removed]",
      "text/plain": [
       "<Figure size 432x288 with 1 Axes>"
      ]
     },
     "metadata": {
      "needs_background": "light"
     },
     "output_type": "display_data"
    }
   ],
   "source": [
    "plt.hist(y_pred, bins=50, label='predictions');\n",
    "plt.hist(y_true, bins=50, alpha=.25, label='pawpularity');\n",
    "plt.legend();"
   ]
  },
  {
   "cell_type": "code",
   "execution_count": 38,
   "metadata": {},
   "outputs": [
    {
     "data": {
      "text/plain": [
       "17.144652938844256"
      ]
     },
     "execution_count": 38,
     "metadata": {},
     "output_type": "execute_result"
    }
   ],
   "source": [
    "mean_squared_error(y_true, y_pred, squared=False)"
   ]
  },
  {
   "cell_type": "code",
   "execution_count": 39,
   "metadata": {
    "papermill": {
     "duration": 0.532698,
     "end_time": "2020-08-18T18:42:53.409697",
     "exception": false,
     "start_time": "2020-08-18T18:42:52.876999",
     "status": "completed"
    },
    "tags": []
   },
   "outputs": [
    {
     "name": "stdout",
     "output_type": "stream",
     "text": [
      "Model 0 has OOF RMSE = 17.3479\n",
      "Model 1 has OOF RMSE = 17.2234\n",
      "Model 2 has OOF RMSE = 17.2713\n",
      "Model 3 has OOF RMSE = 17.2824\n",
      "Model 4 has OOF RMSE = 17.3218\n",
      "Model 5 has OOF RMSE = 17.3801\n",
      "Model 6 has OOF RMSE = 39.6572\n",
      "Model 7 has OOF RMSE = 17.1871\n",
      "Model 8 has OOF RMSE = 17.1922\n",
      "Model 9 has OOF RMSE = 41.8478\n",
      "Model 10 has OOF RMSE = 43.2772\n",
      "Model 11 has OOF RMSE = 43.1726\n",
      "Model 12 has OOF RMSE = 43.2540\n",
      "Model 13 has OOF RMSE = 42.6031\n",
      "Model 14 has OOF RMSE = 42.4844\n",
      "Model 15 has OOF RMSE = 42.5227\n",
      "Model 16 has OOF RMSE = 43.2686\n",
      "Model 17 has OOF RMSE = 43.2167\n",
      "Model 18 has OOF RMSE = 43.1621\n",
      "Model 19 has OOF RMSE = 43.2344\n",
      "Model 20 has OOF RMSE = 43.1322\n",
      "Model 21 has OOF RMSE = 43.1276\n",
      "Model 22 has OOF RMSE = 43.2248\n",
      "Model 23 has OOF RMSE = 43.2187\n"
     ]
    }
   ],
   "source": [
    "all = []\n",
    "for k in range(x.shape[1]):\n",
    "    rmse = mean_squared_error(y_true, x[:, k], squared=False)\n",
    "    all.append(rmse)\n",
    "    print('Model %i has OOF RMSE = %.4f'%(k, rmse))\n",
    "    \n",
    "m = [np.argmin(all)]; w = []"
   ]
  },
  {
   "cell_type": "code",
   "execution_count": null,
   "metadata": {},
   "outputs": [],
   "source": []
  }
 ],
 "metadata": {
  "kernelspec": {
   "display_name": "Python 3 (ipykernel)",
   "language": "python",
   "name": "python3"
  },
  "language_info": {
   "codemirror_mode": {
    "name": "ipython",
    "version": 3
   },
   "file_extension": ".py",
   "mimetype": "text/x-python",
   "name": "python",
   "nbconvert_exporter": "python",
   "pygments_lexer": "ipython3",
   "version": "3.8.12"
  },
  "papermill": {
   "duration": 116.576323,
   "end_time": "2020-08-18T18:44:40.923814",
   "environment_variables": {},
   "exception": null,
   "input_path": "__notebook__.ipynb",
   "output_path": "__notebook__.ipynb",
   "parameters": {},
   "start_time": "2020-08-18T18:42:44.347491",
   "version": "2.1.0"
  }
 },
 "nbformat": 4,
 "nbformat_minor": 4
}
