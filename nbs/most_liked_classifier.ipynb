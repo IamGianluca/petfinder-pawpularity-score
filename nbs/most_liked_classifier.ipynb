{
 "cells": [
  {
   "cell_type": "code",
   "execution_count": 1,
   "id": "e442f490",
   "metadata": {},
   "outputs": [],
   "source": [
    "%load_ext autoreload\n",
    "%autoreload 2"
   ]
  },
  {
   "cell_type": "code",
   "execution_count": 2,
   "id": "b30fa259",
   "metadata": {},
   "outputs": [
    {
     "data": {
      "text/html": [
       "<div>\n",
       "<style scoped>\n",
       "    .dataframe tbody tr th:only-of-type {\n",
       "        vertical-align: middle;\n",
       "    }\n",
       "\n",
       "    .dataframe tbody tr th {\n",
       "        vertical-align: top;\n",
       "    }\n",
       "\n",
       "    .dataframe thead th {\n",
       "        text-align: right;\n",
       "    }\n",
       "</style>\n",
       "<table border=\"1\" class=\"dataframe\">\n",
       "  <thead>\n",
       "    <tr style=\"text-align: right;\">\n",
       "      <th></th>\n",
       "      <th>Unnamed: 0</th>\n",
       "      <th>Id</th>\n",
       "      <th>Subject Focus</th>\n",
       "      <th>Eyes</th>\n",
       "      <th>Face</th>\n",
       "      <th>Near</th>\n",
       "      <th>Action</th>\n",
       "      <th>Accessory</th>\n",
       "      <th>Group</th>\n",
       "      <th>Collage</th>\n",
       "      <th>Human</th>\n",
       "      <th>Occlusion</th>\n",
       "      <th>Info</th>\n",
       "      <th>Blur</th>\n",
       "      <th>Pawpularity</th>\n",
       "      <th>kfold</th>\n",
       "    </tr>\n",
       "  </thead>\n",
       "  <tbody>\n",
       "    <tr>\n",
       "      <th>0</th>\n",
       "      <td>0</td>\n",
       "      <td>0007de18844b0dbbb5e1f607da0606e0</td>\n",
       "      <td>0</td>\n",
       "      <td>1</td>\n",
       "      <td>1</td>\n",
       "      <td>1</td>\n",
       "      <td>0</td>\n",
       "      <td>0</td>\n",
       "      <td>1</td>\n",
       "      <td>0</td>\n",
       "      <td>0</td>\n",
       "      <td>0</td>\n",
       "      <td>0</td>\n",
       "      <td>0</td>\n",
       "      <td>63</td>\n",
       "      <td>0</td>\n",
       "    </tr>\n",
       "    <tr>\n",
       "      <th>1</th>\n",
       "      <td>1</td>\n",
       "      <td>0009c66b9439883ba2750fb825e1d7db</td>\n",
       "      <td>0</td>\n",
       "      <td>1</td>\n",
       "      <td>1</td>\n",
       "      <td>0</td>\n",
       "      <td>0</td>\n",
       "      <td>0</td>\n",
       "      <td>0</td>\n",
       "      <td>0</td>\n",
       "      <td>0</td>\n",
       "      <td>0</td>\n",
       "      <td>0</td>\n",
       "      <td>0</td>\n",
       "      <td>42</td>\n",
       "      <td>2</td>\n",
       "    </tr>\n",
       "    <tr>\n",
       "      <th>2</th>\n",
       "      <td>2</td>\n",
       "      <td>0013fd999caf9a3efe1352ca1b0d937e</td>\n",
       "      <td>0</td>\n",
       "      <td>1</td>\n",
       "      <td>1</td>\n",
       "      <td>1</td>\n",
       "      <td>0</td>\n",
       "      <td>0</td>\n",
       "      <td>0</td>\n",
       "      <td>0</td>\n",
       "      <td>1</td>\n",
       "      <td>1</td>\n",
       "      <td>0</td>\n",
       "      <td>0</td>\n",
       "      <td>28</td>\n",
       "      <td>3</td>\n",
       "    </tr>\n",
       "    <tr>\n",
       "      <th>3</th>\n",
       "      <td>3</td>\n",
       "      <td>0018df346ac9c1d8413cfcc888ca8246</td>\n",
       "      <td>0</td>\n",
       "      <td>1</td>\n",
       "      <td>1</td>\n",
       "      <td>1</td>\n",
       "      <td>0</td>\n",
       "      <td>0</td>\n",
       "      <td>0</td>\n",
       "      <td>0</td>\n",
       "      <td>0</td>\n",
       "      <td>0</td>\n",
       "      <td>0</td>\n",
       "      <td>0</td>\n",
       "      <td>15</td>\n",
       "      <td>3</td>\n",
       "    </tr>\n",
       "    <tr>\n",
       "      <th>4</th>\n",
       "      <td>4</td>\n",
       "      <td>001dc955e10590d3ca4673f034feeef2</td>\n",
       "      <td>0</td>\n",
       "      <td>0</td>\n",
       "      <td>0</td>\n",
       "      <td>1</td>\n",
       "      <td>0</td>\n",
       "      <td>0</td>\n",
       "      <td>1</td>\n",
       "      <td>0</td>\n",
       "      <td>0</td>\n",
       "      <td>0</td>\n",
       "      <td>0</td>\n",
       "      <td>0</td>\n",
       "      <td>72</td>\n",
       "      <td>1</td>\n",
       "    </tr>\n",
       "  </tbody>\n",
       "</table>\n",
       "</div>"
      ],
      "text/plain": [
       "   Unnamed: 0                                Id  Subject Focus  Eyes  Face  \\\n",
       "0           0  0007de18844b0dbbb5e1f607da0606e0              0     1     1   \n",
       "1           1  0009c66b9439883ba2750fb825e1d7db              0     1     1   \n",
       "2           2  0013fd999caf9a3efe1352ca1b0d937e              0     1     1   \n",
       "3           3  0018df346ac9c1d8413cfcc888ca8246              0     1     1   \n",
       "4           4  001dc955e10590d3ca4673f034feeef2              0     0     0   \n",
       "\n",
       "   Near  Action  Accessory  Group  Collage  Human  Occlusion  Info  Blur  \\\n",
       "0     1       0          0      1        0      0          0     0     0   \n",
       "1     0       0          0      0        0      0          0     0     0   \n",
       "2     1       0          0      0        0      1          1     0     0   \n",
       "3     1       0          0      0        0      0          0     0     0   \n",
       "4     1       0          0      1        0      0          0     0     0   \n",
       "\n",
       "   Pawpularity  kfold  \n",
       "0           63      0  \n",
       "1           42      2  \n",
       "2           28      3  \n",
       "3           15      3  \n",
       "4           72      1  "
      ]
     },
     "execution_count": 2,
     "metadata": {},
     "output_type": "execute_result"
    }
   ],
   "source": [
    "import pandas as pd\n",
    "\n",
    "df = pd.read_csv(\"../data/train_5folds.csv\")\n",
    "df.head()"
   ]
  },
  {
   "cell_type": "code",
   "execution_count": 3,
   "id": "4874cd89",
   "metadata": {},
   "outputs": [
    {
     "data": {
      "text/plain": [
       "[PosixPath('../data/train/0007de18844b0dbbb5e1f607da0606e0.jpg'),\n",
       " PosixPath('../data/train/0009c66b9439883ba2750fb825e1d7db.jpg'),\n",
       " PosixPath('../data/train/0013fd999caf9a3efe1352ca1b0d937e.jpg'),\n",
       " PosixPath('../data/train/0018df346ac9c1d8413cfcc888ca8246.jpg'),\n",
       " PosixPath('../data/train/001dc955e10590d3ca4673f034feeef2.jpg')]"
      ]
     },
     "execution_count": 3,
     "metadata": {},
     "output_type": "execute_result"
    }
   ],
   "source": [
    "from pathlib import Path\n",
    "\n",
    "train_image_fpaths = [Path(f\"../data/train/{i}.jpg\") for i in df[\"Id\"].values.tolist()]\n",
    "train_image_fpaths[:5]"
   ]
  },
  {
   "cell_type": "code",
   "execution_count": 4,
   "id": "1befc008",
   "metadata": {},
   "outputs": [
    {
     "data": {
      "text/plain": [
       "[[0],\n",
       " [0],\n",
       " [0],\n",
       " [0],\n",
       " [0],\n",
       " [0],\n",
       " [0],\n",
       " [0],\n",
       " [0],\n",
       " [0],\n",
       " [0],\n",
       " [0],\n",
       " [0],\n",
       " [0],\n",
       " [0],\n",
       " [1],\n",
       " [0],\n",
       " [0],\n",
       " [0],\n",
       " [1]]"
      ]
     },
     "execution_count": 4,
     "metadata": {},
     "output_type": "execute_result"
    }
   ],
   "source": [
    "train_targets = [[1 if t >= 80 else 0] for t in df.Pawpularity.values.tolist()]\n",
    "train_targets[:20]"
   ]
  },
  {
   "cell_type": "code",
   "execution_count": 5,
   "id": "c8a10670",
   "metadata": {},
   "outputs": [],
   "source": [
    "from ml.vision.data import ImageDataModule\n",
    "from timm.data import transforms_factory"
   ]
  },
  {
   "cell_type": "code",
   "execution_count": 6,
   "id": "35519161",
   "metadata": {},
   "outputs": [],
   "source": [
    "train_aug = transforms_factory.create_transform(\n",
    "    input_size=224,\n",
    "    is_training=True,\n",
    "    auto_augment='rand-n2-m10',\n",
    ")\n",
    "val_aug = transforms_factory.create_transform(\n",
    "    input_size=224,\n",
    "    is_training=False\n",
    ")"
   ]
  },
  {
   "cell_type": "code",
   "execution_count": 15,
   "id": "30d242a3",
   "metadata": {},
   "outputs": [],
   "source": [
    "dm = ImageDataModule(\n",
    "    task=\"classification\",\n",
    "    batch_size=32,\n",
    "    # train\n",
    "    train_image_paths=train_image_fpaths[1000:],\n",
    "    train_augmentations=train_aug,\n",
    "    train_targets=train_targets[1000:],\n",
    "    # valid\n",
    "    val_image_paths=train_image_fpaths[:1000],\n",
    "    val_augmentations=val_aug,\n",
    "    val_targets=train_targets[:1000],\n",
    "    # test\n",
    "    test_image_paths=train_image_fpaths,\n",
    "    test_augmentations=val_aug\n",
    ")\n",
    "dm.setup()"
   ]
  },
  {
   "cell_type": "code",
   "execution_count": 16,
   "id": "d1e52171",
   "metadata": {},
   "outputs": [],
   "source": [
    "from ml.learner import ImageClassifier\n",
    "from ml.params import load_cfg"
   ]
  },
  {
   "cell_type": "code",
   "execution_count": 17,
   "id": "9a3c72b3",
   "metadata": {},
   "outputs": [
    {
     "data": {
      "text/plain": [
       "{'name': 'two', 'seed': 7591, 'n_folds': 5, 'fold': -1, 'metric': 'auc', 'metric_mode': 'max', 'train_data': 'data/train', 'arch': 'swin_large_patch4_window7_224', 'pretrained': True, 'epochs': 6, 'bs': 64, 'auto_batch_size': False, 'accumulate_grad_batches': 1, 'precision': 'bf16', 'use_normalize': True, 'n_tfms': 1, 'magn': 5, 'sz': 224, 'use_mix': 0, 'mix_p': 0.0, 'resize': -1, 'dropout': 0.0, 'wd': 0.0, 'label_smoothing': 0.1, 'loss': 'bce_with_logits', 'opt': 'adamw', 'sched': 'cosine', 'warmup_epochs': 1, 'lr': 2.4e-05, 'auto_lr': False, 'mom': 0.9}"
      ]
     },
     "execution_count": 17,
     "metadata": {},
     "output_type": "execute_result"
    }
   ],
   "source": [
    "cfg = load_cfg(fpath=\"../params.yaml\", cfg_name=f\"train_two\")\n",
    "cfg.metric = \"auc\"\n",
    "cfg.metric_mode = \"max\"\n",
    "cfg.bs = 64\n",
    "cfg"
   ]
  },
  {
   "cell_type": "code",
   "execution_count": 18,
   "id": "a0b1363e",
   "metadata": {},
   "outputs": [],
   "source": [
    "model = ImageClassifier(\n",
    "    in_channels=3,\n",
    "    num_classes=1,\n",
    "    cfg=cfg,\n",
    "    pretrained=True\n",
    ")"
   ]
  },
  {
   "cell_type": "code",
   "execution_count": 19,
   "id": "80f0c609",
   "metadata": {},
   "outputs": [],
   "source": [
    "import pytorch_lightning as pl"
   ]
  },
  {
   "cell_type": "code",
   "execution_count": 20,
   "id": "1e2603be",
   "metadata": {},
   "outputs": [
    {
     "name": "stderr",
     "output_type": "stream",
     "text": [
      "Using 16bit native Automatic Mixed Precision (AMP)\n",
      "GPU available: True, used: True\n",
      "TPU available: False, using: 0 TPU cores\n",
      "IPU available: False, using: 0 IPUs\n"
     ]
    }
   ],
   "source": [
    "trainer = pl.Trainer(\n",
    "    gpus=1,\n",
    "    precision=16,\n",
    "    max_epochs=cfg.epochs,\n",
    ")"
   ]
  },
  {
   "cell_type": "code",
   "execution_count": 21,
   "id": "57791e4c",
   "metadata": {},
   "outputs": [
    {
     "name": "stderr",
     "output_type": "stream",
     "text": [
      "/opt/conda/lib/python3.8/site-packages/pytorch_lightning/core/datamodule.py:469: LightningDeprecationWarning: DataModule.setup has already been called, so it will not be called again. In v1.6 this behavior will change to always call DataModule.setup.\n",
      "  rank_zero_deprecation(\n",
      "LOCAL_RANK: 0 - CUDA_VISIBLE_DEVICES: [0,1]\n",
      "\n",
      "  | Name         | Type            | Params\n",
      "-------------------------------------------------\n",
      "0 | backbone     | SwinTransformer | 194 M \n",
      "1 | head         | Sequential      | 8.3 K \n",
      "2 | train_metric | AUROC           | 0     \n",
      "3 | val_metric   | AUROC           | 0     \n",
      "-------------------------------------------------\n",
      "195 M     Trainable params\n",
      "0         Non-trainable params\n",
      "195 M     Total params\n",
      "390.008   Total estimated model params size (MB)\n"
     ]
    },
    {
     "data": {
      "application/vnd.jupyter.widget-view+json": {
       "model_id": "4e26cc73d4f54303995804e1988c5d28",
       "version_major": 2,
       "version_minor": 0
      },
      "text/plain": [
       "Validation sanity check: 0it [00:00, ?it/s]"
      ]
     },
     "metadata": {},
     "output_type": "display_data"
    },
    {
     "data": {
      "application/vnd.jupyter.widget-view+json": {
       "model_id": "8b9aa46afee44737b2e495aa39dcb5e7",
       "version_major": 2,
       "version_minor": 0
      },
      "text/plain": [
       "Training: 0it [00:00, ?it/s]"
      ]
     },
     "metadata": {},
     "output_type": "display_data"
    },
    {
     "data": {
      "application/vnd.jupyter.widget-view+json": {
       "model_id": "c54b5b5f6780418492dbc29aaa0c68cc",
       "version_major": 2,
       "version_minor": 0
      },
      "text/plain": [
       "Validating: 0it [00:00, ?it/s]"
      ]
     },
     "metadata": {},
     "output_type": "display_data"
    },
    {
     "data": {
      "application/vnd.jupyter.widget-view+json": {
       "model_id": "72634e31532847d0a96c5e4483895db7",
       "version_major": 2,
       "version_minor": 0
      },
      "text/plain": [
       "Validating: 0it [00:00, ?it/s]"
      ]
     },
     "metadata": {},
     "output_type": "display_data"
    },
    {
     "name": "stdout",
     "output_type": "stream",
     "text": [
      "Epoch 1 // train metric: 0.6368, valid metric: 0.7730\n"
     ]
    },
    {
     "data": {
      "application/vnd.jupyter.widget-view+json": {
       "model_id": "1dfdd6312bcb45b9b3def8bb7dd2f8ef",
       "version_major": 2,
       "version_minor": 0
      },
      "text/plain": [
       "Validating: 0it [00:00, ?it/s]"
      ]
     },
     "metadata": {},
     "output_type": "display_data"
    },
    {
     "name": "stdout",
     "output_type": "stream",
     "text": [
      "Epoch 2 // train metric: 0.7232, valid metric: 0.7729\n"
     ]
    },
    {
     "data": {
      "application/vnd.jupyter.widget-view+json": {
       "model_id": "ebc8d7c69a7f432ebb870dc46217033c",
       "version_major": 2,
       "version_minor": 0
      },
      "text/plain": [
       "Validating: 0it [00:00, ?it/s]"
      ]
     },
     "metadata": {},
     "output_type": "display_data"
    },
    {
     "name": "stdout",
     "output_type": "stream",
     "text": [
      "Epoch 3 // train metric: 0.7709, valid metric: 0.7674\n"
     ]
    },
    {
     "data": {
      "application/vnd.jupyter.widget-view+json": {
       "model_id": "775af657db4643b8b8866f1f05dd520f",
       "version_major": 2,
       "version_minor": 0
      },
      "text/plain": [
       "Validating: 0it [00:00, ?it/s]"
      ]
     },
     "metadata": {},
     "output_type": "display_data"
    },
    {
     "name": "stdout",
     "output_type": "stream",
     "text": [
      "Epoch 4 // train metric: 0.8011, valid metric: 0.7698\n"
     ]
    },
    {
     "data": {
      "application/vnd.jupyter.widget-view+json": {
       "model_id": "4891bb0bf1264e568fafc36ec881ba37",
       "version_major": 2,
       "version_minor": 0
      },
      "text/plain": [
       "Validating: 0it [00:00, ?it/s]"
      ]
     },
     "metadata": {},
     "output_type": "display_data"
    },
    {
     "name": "stdout",
     "output_type": "stream",
     "text": [
      "Epoch 5 // train metric: 0.8248, valid metric: 0.7705\n"
     ]
    }
   ],
   "source": [
    "trainer.fit(model, dm)"
   ]
  },
  {
   "cell_type": "code",
   "execution_count": 22,
   "id": "02234527",
   "metadata": {},
   "outputs": [
    {
     "name": "stderr",
     "output_type": "stream",
     "text": [
      "LOCAL_RANK: 0 - CUDA_VISIBLE_DEVICES: [0,1]\n"
     ]
    },
    {
     "name": "stdout",
     "output_type": "stream",
     "text": [
      "TrainerFn.PREDICTING\n"
     ]
    },
    {
     "data": {
      "application/vnd.jupyter.widget-view+json": {
       "model_id": "e9059fe4336e4c5ba30f06df5eac6530",
       "version_major": 2,
       "version_minor": 0
      },
      "text/plain": [
       "Predicting: 277it [00:00, ?it/s]"
      ]
     },
     "metadata": {},
     "output_type": "display_data"
    }
   ],
   "source": [
    "preds = trainer.predict(model, dm.test_dataloader())"
   ]
  },
  {
   "cell_type": "code",
   "execution_count": 30,
   "id": "8629db79",
   "metadata": {},
   "outputs": [
    {
     "data": {
      "text/plain": [
       "415"
      ]
     },
     "execution_count": 30,
     "metadata": {},
     "output_type": "execute_result"
    }
   ],
   "source": [
    "(preds > 0.4).sum()"
   ]
  },
  {
   "cell_type": "code",
   "execution_count": 31,
   "id": "8fca37a8",
   "metadata": {},
   "outputs": [
    {
     "data": {
      "text/plain": [
       "578"
      ]
     },
     "execution_count": 31,
     "metadata": {},
     "output_type": "execute_result"
    }
   ],
   "source": [
    "np.array(train_targets).sum()"
   ]
  },
  {
   "cell_type": "markdown",
   "id": "37f9d424",
   "metadata": {},
   "source": [
    "## Calibrate classifier"
   ]
  },
  {
   "cell_type": "code",
   "execution_count": 73,
   "id": "c84484eb",
   "metadata": {},
   "outputs": [
    {
     "name": "stdout",
     "output_type": "stream",
     "text": [
      "TP+FP: 603\n",
      "Precision: 58.87%\n",
      "Recall: 61.42%\n",
      "F1: 60.12%\n"
     ]
    }
   ],
   "source": [
    "from sklearn.metrics import precision_score, recall_score, f1_score\n",
    "\n",
    "\n",
    "thres = 0.31\n",
    "print(f\"TP+FP: {(preds > thres).sum()}\")\n",
    "print(f\"Precision: {precision_score(y_true=train_targets, y_pred=(preds > thres)):.2%}\")\n",
    "print(f\"Recall: {recall_score(y_true=train_targets, y_pred=(preds > thres)):.2%}\")\n",
    "print(f\"F1: {f1_score(y_true=train_targets, y_pred=(preds > thres)):.2%}\")"
   ]
  },
  {
   "cell_type": "code",
   "execution_count": 71,
   "id": "b10511d0",
   "metadata": {},
   "outputs": [
    {
     "data": {
      "text/plain": [
       "array([[9049,  248],\n",
       "       [ 223,  355]])"
      ]
     },
     "execution_count": 71,
     "metadata": {},
     "output_type": "execute_result"
    }
   ],
   "source": [
    "from sklearn.metrics import confusion_matrix\n",
    "\n",
    "confusion_matrix(train_targets, (preds > thres))"
   ]
  },
  {
   "cell_type": "code",
   "execution_count": 23,
   "id": "a94dccbd",
   "metadata": {},
   "outputs": [],
   "source": [
    "import numpy as np\n",
    "\n",
    "preds = np.vstack(preds)"
   ]
  },
  {
   "cell_type": "code",
   "execution_count": null,
   "id": "ec60ae16",
   "metadata": {},
   "outputs": [],
   "source": [
    "from PIL import Image\n",
    "import matplotlib.pyplot as plt\n",
    "\n",
    "nrows = 20\n",
    "fig, axs = plt.subplots(nrows=nrows, ncols=1, figsize=(10, nrows*10))\n",
    "for i, fpath in enumerate(test_image_fpaths[:nrows]):\n",
    "    img = Image.open(fpath)\n",
    "    axs[i].set_title(f\"{'dog' if preds[i][0] > 0.5 else 'cat'}\")\n",
    "    axs[i].imshow(img)"
   ]
  },
  {
   "cell_type": "code",
   "execution_count": null,
   "id": "9d2d2c0f",
   "metadata": {},
   "outputs": [],
   "source": [
    "import pandas as pd\n",
    "\n",
    "df = pd.read_csv(\"../data/train_5folds.csv\")\n",
    "df.head()"
   ]
  },
  {
   "cell_type": "code",
   "execution_count": null,
   "id": "d39b8b27",
   "metadata": {},
   "outputs": [],
   "source": [
    "feat = pd.DataFrame({\n",
    "    \"name\": [p.stem for p in test_image_fpaths],\n",
    "    \"isdog\": preds.squeeze().tolist()\n",
    "})\n",
    "feat = feat[feat.name.isin(df.Id)]\n",
    "feat.head()"
   ]
  },
  {
   "cell_type": "code",
   "execution_count": null,
   "id": "7a0f73bf",
   "metadata": {},
   "outputs": [],
   "source": [
    "df.shape[0] == feat.shape[0]"
   ]
  },
  {
   "cell_type": "code",
   "execution_count": null,
   "id": "4f269394",
   "metadata": {},
   "outputs": [],
   "source": [
    "feat = feat.sort_values(\"name\").reset_index(drop=True)\n",
    "feat[\"kfold\"] = [int(v) for v in df[\"kfold\"]]\n",
    "feat.head()"
   ]
  },
  {
   "cell_type": "code",
   "execution_count": null,
   "id": "18607ee3",
   "metadata": {},
   "outputs": [],
   "source": [
    "feat.to_csv(\"../data/dogvscat_feature.csv\")"
   ]
  },
  {
   "cell_type": "code",
   "execution_count": null,
   "id": "6d323e2b",
   "metadata": {},
   "outputs": [],
   "source": []
  }
 ],
 "metadata": {
  "kernelspec": {
   "display_name": "Python 3 (ipykernel)",
   "language": "python",
   "name": "python3"
  },
  "language_info": {
   "codemirror_mode": {
    "name": "ipython",
    "version": 3
   },
   "file_extension": ".py",
   "mimetype": "text/x-python",
   "name": "python",
   "nbconvert_exporter": "python",
   "pygments_lexer": "ipython3",
   "version": "3.8.12"
  }
 },
 "nbformat": 4,
 "nbformat_minor": 5
}
